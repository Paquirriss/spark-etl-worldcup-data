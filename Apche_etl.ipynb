{
  "nbformat": 4,
  "nbformat_minor": 0,
  "metadata": {
    "colab": {
      "provenance": []
    },
    "kernelspec": {
      "name": "python3",
      "display_name": "Python 3"
    },
    "language_info": {
      "name": "python"
    }
  },
  "cells": [
    {
      "cell_type": "markdown",
      "source": [
        "# ETL USANDO APACHE SPARK"
      ],
      "metadata": {
        "id": "Z8Oylq4Rf2UB"
      }
    },
    {
      "cell_type": "markdown",
      "source": [
        "## Extract"
      ],
      "metadata": {
        "id": "F31O0V8RgADN"
      }
    },
    {
      "cell_type": "markdown",
      "source": [
        "#### Instalación de apache spark"
      ],
      "metadata": {
        "id": "4f1i0p2vgD7-"
      }
    },
    {
      "cell_type": "code",
      "execution_count": 2,
      "metadata": {
        "colab": {
          "base_uri": "https://localhost:8080/"
        },
        "id": "wQU33kQqf1Or",
        "outputId": "4b2ddca4-6975-4bc0-c67f-deb6271ba07f"
      },
      "outputs": [
        {
          "output_type": "stream",
          "name": "stdout",
          "text": [
            "Requirement already satisfied: pyspark in /usr/local/lib/python3.10/dist-packages (3.5.1)\n",
            "Requirement already satisfied: py4j==0.10.9.7 in /usr/local/lib/python3.10/dist-packages (from pyspark) (0.10.9.7)\n"
          ]
        }
      ],
      "source": [
        "pip install pyspark"
      ]
    },
    {
      "cell_type": "markdown",
      "source": [
        "#### Importación de librerías que iré ocupando y creación de la sesión de Spark y agrego el UTF 8 para el tema de los acentos"
      ],
      "metadata": {
        "id": "8i4wWQV2gscM"
      }
    },
    {
      "cell_type": "code",
      "source": [
        "from google.colab import files\n",
        "from pyspark.sql import SparkSession\n",
        "from pyspark.sql.functions import monotonically_increasing_id,split,explode,expr,regexp_extract,trim,regexp_replace,col, to_date, concat, substring\n",
        "\n",
        "# Sesión de sparl\n",
        "spark = SparkSession.builder \\\n",
        "    .appName(\"ETL FIFA mundial\") \\\n",
        "    .config(\"spark.sql.parquet.outputEncoding\", \"UTF-8\") \\\n",
        "    .getOrCreate()"
      ],
      "metadata": {
        "id": "LeLqitmrgsKg"
      },
      "execution_count": 3,
      "outputs": []
    },
    {
      "cell_type": "markdown",
      "source": [
        "####  Leémos el CSV suvbido"
      ],
      "metadata": {
        "id": "x0GE-NM6x6Cm"
      }
    },
    {
      "cell_type": "code",
      "source": [
        "# Damos la ruta del mi archivo CSV\n",
        "csv_file_path = \"/content/dataset.csv\"\n",
        "\n",
        "# Leo y paso el csv a utf-8 para poder ver los caracteres de manera correcta\n",
        "df = spark.read.csv(csv_file_path, header=True, inferSchema=True, encoding=\"UTF-8\")\n",
        "\n",
        "# Veamos las primeras 5 filas y su esquema\n",
        "print(\"Schema:\")\n",
        "df.printSchema()\n",
        "print(\"Primeras 5 filas del DataFrame:\")\n",
        "df.show(5, truncate=False)"
      ],
      "metadata": {
        "colab": {
          "base_uri": "https://localhost:8080/"
        },
        "id": "dqWeXwJ-zTaS",
        "outputId": "5d7753fe-e061-426a-9d16-c54ed10b2ced"
      },
      "execution_count": 4,
      "outputs": [
        {
          "output_type": "stream",
          "name": "stdout",
          "text": [
            "Schema:\n",
            "root\n",
            " |-- home_team: string (nullable = true)\n",
            " |-- away_team: string (nullable = true)\n",
            " |-- home_score: integer (nullable = true)\n",
            " |-- home_xg: double (nullable = true)\n",
            " |-- home_penalty: integer (nullable = true)\n",
            " |-- away_score: integer (nullable = true)\n",
            " |-- away_xg: double (nullable = true)\n",
            " |-- away_penalty: integer (nullable = true)\n",
            " |-- home_manager: string (nullable = true)\n",
            " |-- home_captain: string (nullable = true)\n",
            " |-- away_manager: string (nullable = true)\n",
            " |-- away_captain: string (nullable = true)\n",
            " |-- Attendance: integer (nullable = true)\n",
            " |-- Venue: string (nullable = true)\n",
            " |-- Officials: string (nullable = true)\n",
            " |-- Round: string (nullable = true)\n",
            " |-- Date: date (nullable = true)\n",
            " |-- Score: string (nullable = true)\n",
            " |-- Referee: string (nullable = true)\n",
            " |-- Notes: string (nullable = true)\n",
            " |-- Host: string (nullable = true)\n",
            " |-- Year: integer (nullable = true)\n",
            " |-- home_goal: string (nullable = true)\n",
            " |-- away_goal: string (nullable = true)\n",
            " |-- home_goal_long: string (nullable = true)\n",
            " |-- away_goal_long: string (nullable = true)\n",
            " |-- home_own_goal: string (nullable = true)\n",
            " |-- away_own_goal: string (nullable = true)\n",
            " |-- home_penalty_goal: string (nullable = true)\n",
            " |-- away_penalty_goal: string (nullable = true)\n",
            " |-- home_penalty_miss_long: string (nullable = true)\n",
            " |-- away_penalty_miss_long: string (nullable = true)\n",
            " |-- home_penalty_shootout_goal_long: string (nullable = true)\n",
            " |-- away_penalty_shootout_goal_long: string (nullable = true)\n",
            " |-- home_penalty_shootout_miss_long: string (nullable = true)\n",
            " |-- away_penalty_shootout_miss_long: string (nullable = true)\n",
            " |-- home_red_card: string (nullable = true)\n",
            " |-- away_red_card: string (nullable = true)\n",
            " |-- home_yellow_red_card: string (nullable = true)\n",
            " |-- away_yellow_red_card: string (nullable = true)\n",
            " |-- home_yellow_card_long: string (nullable = true)\n",
            " |-- away_yellow_card_long: string (nullable = true)\n",
            " |-- home_substitute_in_long: string (nullable = true)\n",
            " |-- away_substitute_in_long: string (nullable = true)\n",
            "\n",
            "Primeras 5 filas del DataFrame:\n",
            "+---------+---------+----------+-------+------------+----------+-------+------------+----------------+------------+----------------+------------+----------+-----------------------------------+------------------------------------------------------------------------------------------------------------------------------------------------+-----------------+----------+-----------+-----------------------------+---------------------------------------------------+-----+----+-----------------------------------------+------------------+---------------------------------------------------------------------------------------------------------+------------------------------------------------------+-------------+-------------+---------------------+----------------------------------------------+----------------------+----------------------+----------------------------------------------------------------------------------------------+--------------------------------------------------+-------------------------------+-----------------------------------------------------+-------------+-------------+---------------------+--------------------+---------------------------------------------------------------------------------------------------------------------------------------------------------------------------------+---------------------------------------------------------------------------------------------------+----------------------------------------------------------------------------------------------------------------------------------------------------------------------------------------------------------------------------------------------------------------------------------------------------------------------------------------+-------------------------------------------------------------------------------------------------------------------------------------------------------------------------------------------------------------------------------------------------------------------------------------------------------------------------------------------------------------------------------------+\n",
            "|home_team|away_team|home_score|home_xg|home_penalty|away_score|away_xg|away_penalty|home_manager    |home_captain|away_manager    |away_captain|Attendance|Venue                              |Officials                                                                                                                                       |Round            |Date      |Score      |Referee                      |Notes                                              |Host |Year|home_goal                                |away_goal         |home_goal_long                                                                                           |away_goal_long                                        |home_own_goal|away_own_goal|home_penalty_goal    |away_penalty_goal                             |home_penalty_miss_long|away_penalty_miss_long|home_penalty_shootout_goal_long                                                               |away_penalty_shootout_goal_long                   |home_penalty_shootout_miss_long|away_penalty_shootout_miss_long                      |home_red_card|away_red_card|home_yellow_red_card |away_yellow_red_card|home_yellow_card_long                                                                                                                                                            |away_yellow_card_long                                                                              |home_substitute_in_long                                                                                                                                                                                                                                                                                                                 |away_substitute_in_long                                                                                                                                                                                                                                                                                                                                                              |\n",
            "+---------+---------+----------+-------+------------+----------+-------+------------+----------------+------------+----------------+------------+----------+-----------------------------------+------------------------------------------------------------------------------------------------------------------------------------------------+-----------------+----------+-----------+-----------------------------+---------------------------------------------------+-----+----+-----------------------------------------+------------------+---------------------------------------------------------------------------------------------------------+------------------------------------------------------+-------------+-------------+---------------------+----------------------------------------------+----------------------+----------------------+----------------------------------------------------------------------------------------------+--------------------------------------------------+-------------------------------+-----------------------------------------------------+-------------+-------------+---------------------+--------------------+---------------------------------------------------------------------------------------------------------------------------------------------------------------------------------+---------------------------------------------------------------------------------------------------+----------------------------------------------------------------------------------------------------------------------------------------------------------------------------------------------------------------------------------------------------------------------------------------------------------------------------------------+-------------------------------------------------------------------------------------------------------------------------------------------------------------------------------------------------------------------------------------------------------------------------------------------------------------------------------------------------------------------------------------+\n",
            "|Argentina|France   |3         |3.3    |4           |3         |2.2    |2           |Lionel Scaloni  |Lionel Messi|Didier Deschamps|Hugo Lloris |88966     |Lusail Iconic Stadium, Lusail      |Szymon Marciniak (Referee) · Paweł Sokolnicki (AR1) · Tomasz Listkiewicz (AR2) · Ismail Elfath (4th) · Tomasz Kwiatkowski (VAR)                 |Final            |2022-12-18|(4) 3–3 (2)|Szymon Marciniak             |Argentina won on penalty kicks following extra time|Qatar|2022|Ángel Di María · 36|Lionel Messi · 108   |Kylian Mbappé · 81|['36&rsquor;|2:0|Ángel Di María|Assist:|Alexis Mac Allister', '108&rsquor;|3:2|Lionel Messi']            |['81&rsquor;|2:2|Kylian Mbappé|Assist:|Marcus Thuram']|NULL         |NULL         |Lionel Messi (P) · 23|Kylian Mbappé (P) · 80|Kylian Mbappé (P) · 118|NULL                  |NULL                  |['2|1:1|Lionel Messi', '4|2:1|Paulo Dybala', '6|3:1|Leandro Paredes', '8|4:2|Gonzalo Montiel']|['1|0:1|Kylian Mbappé', '7|3:2|Randal Kolo Muani']|NULL                           |['3|1:1|Kingsley Coman', '5|2:1|Aurélien Tchouaméni']|NULL         |NULL         |NULL                 |NULL                |['45+7&rsquor;|2:0|Enzo Fernández', '90+8&rsquor;|2:2|Marcos Acuña', '114&rsquor;|3:2|Leandro Paredes', '116&rsquor;|3:2|Gonzalo Montiel', '120+4&rsquor;|3:3|Emiliano Martínez']|['55&rsquor;|2:0|Adrien Rabiot', '87&rsquor;|2:2|Marcus Thuram', '90+5&rsquor;|2:2|Olivier Giroud']|['64&rsquor;|2:0|Marcos Acuña|for Ángel Di María', '91&rsquor;|2:2|Gonzalo Montiel|for Nahuel Molina', '102&rsquor;|2:2|Leandro Paredes|for Rodrigo De Paul', '103&rsquor;|2:2|Lautaro Martínez|for Julián Álvarez', '116&rsquor;|3:2|Germán Pezzella|for Alexis Mac Allister', '120+1&rsquor;|3:3|Paulo Dybala|for Nicolás Tagliafico']|['41&rsquor;|2:0|Randal Kolo Muani|for Ousmane Dembélé', '41&rsquor;|2:0|Marcus Thuram|for Olivier Giroud', '71&rsquor;|2:0|Eduardo Camavinga|for Theo Hernández', '71&rsquor;|2:0|Kingsley Coman|for Antoine Griezmann', '96&rsquor;|2:2|Youssouf Fofana|for Adrien Rabiot', '113&rsquor;|3:2|Ibrahima Konaté|for Raphaël Varane', '120+1&rsquor;|3:3|Axel Disasi|for Jules Koundé']|\n",
            "|Croatia  |Morocco  |2         |0.7    |NULL        |1         |1.2    |NULL        |Zlatko Dalić    |Luka Modrić |Hoalid Regragui |Hakim Ziyech|44137     |Khalifa International Stadium, Doha|Abdulrahman Ibrahim Al Jassim (Referee) · Taleb Salem Al Marri (AR1) · Saoud Ahmed Al Maqaleh (AR2) · Raphael Claus (4th) · Julio Bascuñán (VAR)|Third-place match|2022-12-17|2–1        |Abdulrahman Ibrahim Al Jassim|NULL                                               |Qatar|2022|Joško Gvardiol · 7|Mislav Oršić · 42     |Achraf Dari · 9   |['7&rsquor;|1:0|Joško Gvardiol|Assist:|Ivan Perišić', '42&rsquor;|2:1|Mislav Oršić|Assist:|Marko Livaja']|['9&rsquor;|1:1|Achraf Dari']                         |NULL         |NULL         |NULL                 |NULL                                          |NULL                  |NULL                  |NULL                                                                                          |NULL                                              |NULL                           |NULL                                                 |NULL         |NULL         |NULL                 |NULL                |NULL                                                                                                                                                                             |['69&rsquor;|2:1|Azzedine Ounahi', '84&rsquor;|2:1|Selim Amallah']                                 |['61&rsquor;|2:1|Nikola Vlašić|for Andrej Kramarić', '66&rsquor;|2:1|Bruno Petković|for Marko Livaja', '66&rsquor;|2:1|Mario Pašalić|for Lovro Majer', '90+5&rsquor;|2:1|Kristijan Jakić|for Mislav Oršić']                                                                                                                             |['46&rsquor;|2:1|Ilias Chair|for Abdelhamid Sabiri', '56&rsquor;|2:1|Azzedine Ounahi|for Bilal El Khannous', '64&rsquor;|2:1|Anass Zaroury|for Sofiane Boufal', '64&rsquor;|2:1|Badr Banoun|for Achraf Dari', '66&rsquor;|2:1|Selim Amallah|for Jawad El Yamiq']                                                                                                                     |\n",
            "|France   |Morocco  |2         |2.0    |NULL        |0         |0.9    |NULL        |Didier Deschamps|Hugo Lloris |Hoalid Regragui |Romain Saïss|68294     |Al Bayt Stadium, Al Khor           |César Arturo Ramos (Referee) · Alberto Morín (AR1) · Miguel Ángel Hernández (AR2) · Jesús Valenzuela (4th) · Drew Fischer (VAR)                 |Semi-finals      |2022-12-14|2–0        |César Arturo Ramos           |NULL                                               |Qatar|2022|Theo Hernández · 5|Randal Kolo Muani · 79|NULL              |['5&rsquor;|1:0|Theo Hernández', '79&rsquor;|2:0|Randal Kolo Muani']                                     |NULL                                                  |NULL         |NULL         |NULL                 |NULL                                          |NULL                  |NULL                  |NULL                                                                                          |NULL                                              |NULL                           |NULL                                                 |NULL         |NULL         |NULL                 |NULL                |NULL                                                                                                                                                                             |['27&rsquor;|1:0|Sofiane Boufal']                                                                  |['65&rsquor;|1:0|Marcus Thuram|for Olivier Giroud', '79&rsquor;|1:0|Randal Kolo Muani|for Ousmane Dembélé']                                                                                                                                                                                                                             |['21&rsquor;|1:0|Selim Amallah|for Romain Saïss', '46&rsquor;|1:0|Yahya Attiat Allah|for Noussair Mazraoui', '66&rsquor;|1:0|Abderrazak Hamdallah|for Youssef En-Nesyri', '66&rsquor;|1:0|Zakaria Aboukhlal|for Sofiane Boufal', '78&rsquor;|1:0|Abdessamad Ezzalzouli|for Selim Amallah']                                                                                           |\n",
            "|Argentina|Croatia  |3         |2.3    |NULL        |0         |0.5    |NULL        |Lionel Scaloni  |Lionel Messi|Zlatko Dalić    |Luka Modrić |88966     |Lusail Iconic Stadium, Lusail      |Daniele Orsato (Referee) · Ciro Carbone (AR1) · Alessandro Giallatini (AR2) · Mohammed Abdulla Hassan (4th) · Massimiliano Irrati (VAR)         |Semi-finals      |2022-12-13|3–0        |Daniele Orsato               |NULL                                               |Qatar|2022|Julián Álvarez · 39|Julián Álvarez · 69  |NULL              |['39&rsquor;|2:0|Julián Álvarez', '69&rsquor;|3:0|Julián Álvarez|Assist:|Lionel Messi']                  |NULL                                                  |NULL         |NULL         |Lionel Messi (P) · 34|NULL                                          |NULL                  |NULL                  |NULL                                                                                          |NULL                                              |NULL                           |NULL                                                 |NULL         |NULL         |NULL                 |NULL                |['68&rsquor;|2:0|Cristian Romero', '71&rsquor;|3:0|Nicolás Otamendi']                                                                                                            |['32&rsquor;|0:0|Mateo Kovačić', '32&rsquor;|0:0|Dominik Livaković']                               |['62&rsquor;|2:0|Lisandro Martínez|for Leandro Paredes', '74&rsquor;|3:0|Exequiel Palacios|for Rodrigo De Paul', '74&rsquor;|3:0|Paulo Dybala|for Julián Álvarez', '86&rsquor;|3:0|Ángel Correa|for Alexis Mac Allister', '86&rsquor;|3:0|Juan Foyth|for Nahuel Molina']                                                                |['46&rsquor;|2:0|Mislav Oršić|for Borna Sosa', '46&rsquor;|2:0|Nikola Vlašić|for Mario Pašalić', '50&rsquor;|2:0|Bruno Petković|for Marcelo Brozović', '72&rsquor;|3:0|Marko Livaja|for Andrej Kramarić', '81&rsquor;|3:0|Lovro Majer|for Luka Modrić']                                                                                                                              |\n",
            "|Morocco  |Portugal |1         |1.4    |NULL        |0         |0.9    |NULL        |Hoalid Regragui |Romain Saïss|Fernando Santos |Pepe        |44198     |Al Thumama Stadium, ath-Thumāma    |Facundo Tello (Referee) · Ezequiel Brailovsky (AR1) · Gabriel Chade (AR2) · Iván Barton (4th) · Mauro Vigliano (VAR)                            |Quarter-finals   |2022-12-10|1–0        |Facundo Tello                |NULL                                               |Qatar|2022|Youssef En-Nesyri · 42                   |NULL              |['42&rsquor;|1:0|Youssef En-Nesyri|Assist:|Yahya Attiat Allah']                                          |NULL                                                  |NULL         |NULL         |NULL                 |NULL                                          |NULL                  |NULL                  |NULL                                                                                          |NULL                                              |NULL                           |NULL                                                 |NULL         |NULL         |Walid Cheddira · 90+3|NULL                |['70&rsquor;|1:0|Achraf Dari', '90+1&rsquor;|1:0|Walid Cheddira']                                                                                                                |['87&rsquor;|1:0|Vitinha']                                                                         |['57&rsquor;|1:0|Achraf Dari|for Romain Saïss', '65&rsquor;|1:0|Walid Cheddira|for Selim Amallah', '65&rsquor;|1:0|Badr Banoun|for Youssef En-Nesyri', '81&rsquor;|1:0|Zakaria Aboukhlal|for Hakim Ziyech', '82&rsquor;|1:0|Yahya Jabrane|for Sofiane Boufal']                                                                          |['51&rsquor;|1:0|João Cancelo|for Raphaël Guerreiro', '51&rsquor;|1:0|Cristiano Ronaldo|for Rúben Neves', '69&rsquor;|1:0|Vitinha|for Otávio', '69&rsquor;|1:0|Rafael Leão|for Gonçalo Ramos', '79&rsquor;|1:0|Ricardo Horta|for Diogo Dalot']                                                                                                                                       |\n",
            "+---------+---------+----------+-------+------------+----------+-------+------------+----------------+------------+----------------+------------+----------+-----------------------------------+------------------------------------------------------------------------------------------------------------------------------------------------+-----------------+----------+-----------+-----------------------------+---------------------------------------------------+-----+----+-----------------------------------------+------------------+---------------------------------------------------------------------------------------------------------+------------------------------------------------------+-------------+-------------+---------------------+----------------------------------------------+----------------------+----------------------+----------------------------------------------------------------------------------------------+--------------------------------------------------+-------------------------------+-----------------------------------------------------+-------------+-------------+---------------------+--------------------+---------------------------------------------------------------------------------------------------------------------------------------------------------------------------------+---------------------------------------------------------------------------------------------------+----------------------------------------------------------------------------------------------------------------------------------------------------------------------------------------------------------------------------------------------------------------------------------------------------------------------------------------+-------------------------------------------------------------------------------------------------------------------------------------------------------------------------------------------------------------------------------------------------------------------------------------------------------------------------------------------------------------------------------------+\n",
            "only showing top 5 rows\n",
            "\n"
          ]
        }
      ]
    },
    {
      "cell_type": "markdown",
      "source": [
        "#### Empezaré a eliminar todas las columnas que sé que no me interesan analisar, muchas de ellas tienen la palbra long por lo que me ayudaré de un ciclo for y un extend"
      ],
      "metadata": {
        "id": "aSNY_Xiq0QAw"
      }
    },
    {
      "cell_type": "code",
      "source": [
        "# Lista de columnas a eliminar\n",
        "delete = [\n",
        "    \"home_xg\",\"away_xg\",\"home_manager\", \"away_manager\", \"home_manager\", \"away_manager\",\"home_captain\",\"away_penalty\",\"Score\",\n",
        "    \"away_captain\", \"home_captain\", \"away_captain\",\"Venue\", \"Officials\",\"Notes\",\"home_score\",\"away_score\",\"home_penalty\",\n",
        "    \"home_own_goal\", \"away_own_goal\",\"home_penalty_miss_long\",\"away_penalty_miss_long\",\"home_yellow_red_card\",\"away_yellow_red_card\",\n",
        "]\n",
        "\n",
        "# Tampoco necesito las columnas long menos las de penales\n",
        "long_quit = [col for col in df.columns if \"long\" in col and col not in [\"home_penalty_miss_long\", \"away_penalty_miss_long\"]]\n",
        "delete.extend(long_quit)\n",
        "\n",
        "# Elimino del df\n",
        "df_clean = df.drop(*delete)\n",
        "\n",
        "# Así me quedó mi df\n",
        "print(\"Columnas después de la limpieza:\")\n",
        "df_clean.printSchema()"
      ],
      "metadata": {
        "colab": {
          "base_uri": "https://localhost:8080/"
        },
        "id": "JMZqSSVxx47f",
        "outputId": "24808958-2b6f-4ca1-ab29-7a4115ffb4ee"
      },
      "execution_count": 5,
      "outputs": [
        {
          "output_type": "stream",
          "name": "stdout",
          "text": [
            "Columnas después de la limpieza:\n",
            "root\n",
            " |-- home_team: string (nullable = true)\n",
            " |-- away_team: string (nullable = true)\n",
            " |-- Attendance: integer (nullable = true)\n",
            " |-- Round: string (nullable = true)\n",
            " |-- Date: date (nullable = true)\n",
            " |-- Referee: string (nullable = true)\n",
            " |-- Host: string (nullable = true)\n",
            " |-- Year: integer (nullable = true)\n",
            " |-- home_goal: string (nullable = true)\n",
            " |-- away_goal: string (nullable = true)\n",
            " |-- home_penalty_goal: string (nullable = true)\n",
            " |-- away_penalty_goal: string (nullable = true)\n",
            " |-- home_red_card: string (nullable = true)\n",
            " |-- away_red_card: string (nullable = true)\n",
            "\n"
          ]
        }
      ]
    },
    {
      "cell_type": "markdown",
      "source": [
        "#### He visto que es buen standard manejar los archivos en parquet por varias ventajas entonces aquí haré lo mismo"
      ],
      "metadata": {
        "id": "GojSpZ-b4DuB"
      }
    },
    {
      "cell_type": "code",
      "source": [
        "#Especifico a dónde se va ir el parquet\n",
        "parquet_file = \"/content/Fifas.parquet\"\n",
        "\n",
        "# Guardo en parquet\n",
        "df_clean.write.parquet(parquet_file)\n",
        "\n",
        "# Leo el archivo y lo muestro\n",
        "df_parquet = spark.read.parquet(parquet_file, encoding=\"UTF-8\")\n",
        "df_parquet.show(5)\n",
        "df_parquet.printSchema()"
      ],
      "metadata": {
        "colab": {
          "base_uri": "https://localhost:8080/"
        },
        "id": "ckjXK8g04KKq",
        "outputId": "125afba6-9304-4803-8382-4f903c6cd858"
      },
      "execution_count": 6,
      "outputs": [
        {
          "output_type": "stream",
          "name": "stdout",
          "text": [
            "+---------+---------+----------+-----------------+----------+--------------------+-----+----+--------------------+------------------+--------------------+--------------------+-------------+-------------+\n",
            "|home_team|away_team|Attendance|            Round|      Date|             Referee| Host|Year|           home_goal|         away_goal|   home_penalty_goal|   away_penalty_goal|home_red_card|away_red_card|\n",
            "+---------+---------+----------+-----------------+----------+--------------------+-----+----+--------------------+------------------+--------------------+--------------------+-------------+-------------+\n",
            "|Argentina|   France|     88966|            Final|2022-12-18|    Szymon Marciniak|Qatar|2022|Ángel Di María · ...|Kylian Mbappé · 81|Lionel Messi (P) ...|Kylian Mbappé (P)...|         NULL|         NULL|\n",
            "|  Croatia|  Morocco|     44137|Third-place match|2022-12-17|Abdulrahman Ibrah...|Qatar|2022|Joško Gvardiol · ...|   Achraf Dari · 9|                NULL|                NULL|         NULL|         NULL|\n",
            "|   France|  Morocco|     68294|      Semi-finals|2022-12-14|  César Arturo Ramos|Qatar|2022|Theo Hernández · ...|              NULL|                NULL|                NULL|         NULL|         NULL|\n",
            "|Argentina|  Croatia|     88966|      Semi-finals|2022-12-13|      Daniele Orsato|Qatar|2022|Julián Álvarez · ...|              NULL|Lionel Messi (P) ...|                NULL|         NULL|         NULL|\n",
            "|  Morocco| Portugal|     44198|   Quarter-finals|2022-12-10|       Facundo Tello|Qatar|2022|Youssef En-Nesyri...|              NULL|                NULL|                NULL|         NULL|         NULL|\n",
            "+---------+---------+----------+-----------------+----------+--------------------+-----+----+--------------------+------------------+--------------------+--------------------+-------------+-------------+\n",
            "only showing top 5 rows\n",
            "\n",
            "root\n",
            " |-- home_team: string (nullable = true)\n",
            " |-- away_team: string (nullable = true)\n",
            " |-- Attendance: integer (nullable = true)\n",
            " |-- Round: string (nullable = true)\n",
            " |-- Date: date (nullable = true)\n",
            " |-- Referee: string (nullable = true)\n",
            " |-- Host: string (nullable = true)\n",
            " |-- Year: integer (nullable = true)\n",
            " |-- home_goal: string (nullable = true)\n",
            " |-- away_goal: string (nullable = true)\n",
            " |-- home_penalty_goal: string (nullable = true)\n",
            " |-- away_penalty_goal: string (nullable = true)\n",
            " |-- home_red_card: string (nullable = true)\n",
            " |-- away_red_card: string (nullable = true)\n",
            "\n"
          ]
        }
      ]
    },
    {
      "cell_type": "markdown",
      "source": [
        "## Transform"
      ],
      "metadata": {
        "id": "eR5hFqNx8lvI"
      }
    },
    {
      "cell_type": "markdown",
      "source": [
        "### Dim tables"
      ],
      "metadata": {
        "id": "3BG4Amt0yStP"
      }
    },
    {
      "cell_type": "markdown",
      "source": [
        "#### Dimensión de los equipos extrayendo de las 2 columnas donde se puedan extraer"
      ],
      "metadata": {
        "id": "7WeGHWSX8oK2"
      }
    },
    {
      "cell_type": "code",
      "source": [
        "# Extraemos los equipos de home_team y away_team\n",
        "dim_team = df_parquet.select(\"home_team\").distinct().withColumnRenamed(\"home_team\", \"team\")\n",
        "dim_team2 = df_parquet.select(\"away_team\").distinct().withColumnRenamed(\"away_team\", \"team\")\n",
        "\n",
        "# Unimos y quitamos los que se repiten porque los países pueden l o v\n",
        "dim_teams = dim_team.union(dim_team2).distinct()\n",
        "# Asignamos un ID único\n",
        "dim_teams = dim_teams.withColumn(\"id\", monotonically_increasing_id() + 1)\n",
        "\n",
        "# Así quedaría nuestra dimensión de países\n",
        "dim_teams.show(5)"
      ],
      "metadata": {
        "colab": {
          "base_uri": "https://localhost:8080/"
        },
        "id": "JcUdnmem-ngZ",
        "outputId": "0d5c6345-e289-4d44-ee64-97cd7c621cee"
      },
      "execution_count": 7,
      "outputs": [
        {
          "output_type": "stream",
          "name": "stdout",
          "text": [
            "+-------------+---+\n",
            "|         team| id|\n",
            "+-------------+---+\n",
            "|Côte d'Ivoire|  1|\n",
            "|       Russia|  2|\n",
            "|     Paraguay|  3|\n",
            "|      Senegal|  4|\n",
            "|       Sweden|  5|\n",
            "+-------------+---+\n",
            "only showing top 5 rows\n",
            "\n"
          ]
        }
      ]
    },
    {
      "cell_type": "markdown",
      "source": [
        "#### Dimensión árbitros donde solo extrameos la columna quitamos los duplicados y asignamos ID"
      ],
      "metadata": {
        "id": "5GfHHfgZCEgu"
      }
    },
    {
      "cell_type": "code",
      "source": [
        "# Extraer los árbitros de la columna 'Referee' y eliminar duplicados\n",
        "dim_referees = df_parquet.select(\"Referee\").distinct()\n",
        "\n",
        "# Asignar un ID\n",
        "dim_referees = dim_referees.withColumn(\"id\", monotonically_increasing_id() + 1)\n",
        "\n",
        "# Así quedaría nuestra dimensión de árbitros\n",
        "dim_referees.show(5)"
      ],
      "metadata": {
        "colab": {
          "base_uri": "https://localhost:8080/"
        },
        "id": "gdkQ1ww2CIDm",
        "outputId": "6a4c7581-cf16-4b64-d38b-f0624777d694"
      },
      "execution_count": 8,
      "outputs": [
        {
          "output_type": "stream",
          "name": "stdout",
          "text": [
            "+--------------------+---+\n",
            "|             Referee| id|\n",
            "+--------------------+---+\n",
            "|    Mustapha Ghorbal|  1|\n",
            "|  Roberto Goicoechea|  2|\n",
            "|      Leslie Mottram|  3|\n",
            "|       Anibal Tejada|  4|\n",
            "|Arturo Brizio Carter|  5|\n",
            "+--------------------+---+\n",
            "only showing top 5 rows\n",
            "\n"
          ]
        }
      ]
    },
    {
      "cell_type": "markdown",
      "source": [
        "#### Hacemos la dimensión de partidos donde extraemos los datos relevantes y establecemos la fecha a dim date"
      ],
      "metadata": {
        "id": "N_L1sHn-JfMF"
      }
    },
    {
      "cell_type": "code",
      "source": [
        "# Pasaré lo de las fechas a un formato de dim date\n",
        "dim_matches = df_parquet.withColumn(\"Date\",\n",
        "    concat(\n",
        "        substring(col(\"Date\"), 1, 4),  # Año\n",
        "        substring(col(\"Date\"), 6, 2),  # Mes\n",
        "        substring(col(\"Date\"), 9, 2)   # Día\n",
        "    )\n",
        ")\n",
        "\n",
        "# Seleccionar las columnas para hacer mi dimesioón de los partidos\n",
        "dim_matches = dim_matches.select(\n",
        "    col(\"Attendance\"),\n",
        "    col(\"Round\"),\n",
        "    col(\"Host\"),\n",
        "    col(\"Date\")\n",
        ")\n",
        "\n",
        "# Asigno el ID\n",
        "dim_matches = dim_matches.withColumn(\"id\", monotonically_increasing_id() + 1)\n",
        "\n",
        "# Así quedaría nuestra dimensión de partidos\n",
        "dim_matches.show(5)\n",
        "\n"
      ],
      "metadata": {
        "id": "MB_SWKnJ52V5",
        "colab": {
          "base_uri": "https://localhost:8080/"
        },
        "outputId": "ac0257d1-137b-44af-bbc4-155d34cdcc3c"
      },
      "execution_count": 9,
      "outputs": [
        {
          "output_type": "stream",
          "name": "stdout",
          "text": [
            "+----------+-----------------+-----+--------+---+\n",
            "|Attendance|            Round| Host|    Date| id|\n",
            "+----------+-----------------+-----+--------+---+\n",
            "|     88966|            Final|Qatar|20221218|  1|\n",
            "|     44137|Third-place match|Qatar|20221217|  2|\n",
            "|     68294|      Semi-finals|Qatar|20221214|  3|\n",
            "|     88966|      Semi-finals|Qatar|20221213|  4|\n",
            "|     44198|   Quarter-finals|Qatar|20221210|  5|\n",
            "+----------+-----------------+-----+--------+---+\n",
            "only showing top 5 rows\n",
            "\n"
          ]
        }
      ]
    },
    {
      "cell_type": "markdown",
      "source": [
        "#### En la dimensión de jugadores sacamos las columnas donde podamos extraer jugadores de los eventos a estudiar y los tratamos a manera de poder extraerlos"
      ],
      "metadata": {
        "id": "3pIAbR0i514Q"
      }
    },
    {
      "cell_type": "code",
      "source": [
        "# Selecciono las columnas donde tienen jugadores\n",
        "dim_players = (\n",
        "    df_parquet.selectExpr(\"home_goal as player\", \"home_team as team\")\n",
        "    .union(df_parquet.selectExpr(\"away_goal as player\", \"away_team as team\"))\n",
        "    .union(df_parquet.selectExpr(\"home_red_card as player\", \"home_team as team\"))\n",
        "    .union(df_parquet.selectExpr(\"away_red_card as player\", \"away_team as team\"))\n",
        "    .union(df_parquet.selectExpr(\"home_penalty_goal as player\", \"home_team as team\"))\n",
        "    .union(df_parquet.selectExpr(\"away_penalty_goal as player\", \"away_team as team\"))\n",
        ")\n",
        "\n",
        "# Empecé a quitar caracteres para poder extraer los jugadores separandolos por,\n",
        "dim_players = dim_players.withColumn(\"player\", regexp_replace(col(\"player\"), r\"\\(P\\)\", \"\"))\n",
        "dim_players = dim_players.withColumn(\"player\", regexp_replace(col(\"player\"), \"\\s+\", \"\"))\n",
        "dim_players = dim_players.withColumn(\"player\", regexp_replace(col(\"player\"), \"·\", \"\"))\n",
        "dim_players = dim_players.withColumn(\"player\", regexp_replace(col(\"player\"), \"[0-9]\", \"\"))\n",
        "dim_players = dim_players.withColumn(\"player\", regexp_replace(col(\"player\"), \"\\|\", \",\"))\n",
        "dim_players = dim_players.withColumn(\"player\", regexp_replace(col(\"player\"), r'(?<=[a-z])(?=[A-Z])', ' '))\n",
        "dim_players = dim_players.withColumn(\"player\", regexp_replace(col(\"player\"), \"\\+\", \"\"))\n",
        "dim_players = dim_players.withColumn(\"player\", trim(col(\"player\")))\n",
        "\n",
        "# Searo los jugaodres\n",
        "dim_players = dim_players.withColumn(\"player\", explode(split(col(\"player\"), \",\")))\n",
        "dim_players = dim_players.withColumn(\"player\", trim(col(\"player\")))\n",
        "\n",
        "# Elimino duplicado\n",
        "dim_players = dim_players.dropDuplicates([\"player\"])\n",
        "\n",
        "# Asigno el ID\n",
        "dim_players = dim_players.withColumn(\"id1\", monotonically_increasing_id() + 1)\n",
        "\n",
        "# Uno con dim team para extraer el id y quito la columna team porque ya no la ocupo\n",
        "dim_players = dim_players.join(dim_teams, dim_players.team == dim_teams.team, \"inner\")\n",
        "dim_players = dim_players.drop('team')\n",
        "\n",
        "# Renombro columnas\n",
        "dim_players = dim_players.withColumnRenamed('id','team_id')\n",
        "dim_players = dim_players.withColumnRenamed('id1','id')\n",
        "\n",
        "# Muestra los primeros 5 registros\n",
        "dim_players.show(5)"
      ],
      "metadata": {
        "colab": {
          "base_uri": "https://localhost:8080/"
        },
        "id": "ZN3nPW1Bpfyu",
        "outputId": "8161805e-ad32-4362-d0e3-77f3f6287fb9"
      },
      "execution_count": 10,
      "outputs": [
        {
          "output_type": "stream",
          "name": "stdout",
          "text": [
            "+--------------------+---+-------+\n",
            "|              player| id|team_id|\n",
            "+--------------------+---+-------+\n",
            "|    Abdeljalil Hadda|  1|     40|\n",
            "|     Abdelkrim Merry|  2|     40|\n",
            "| Abdelmoumene Djabou|  3|     13|\n",
            "|   Abderrazak Khairi|  4|     40|\n",
            "|Abdullah Al-Buloushi|  5|     84|\n",
            "+--------------------+---+-------+\n",
            "only showing top 5 rows\n",
            "\n"
          ]
        }
      ]
    },
    {
      "cell_type": "markdown",
      "source": [
        "### Fact tables"
      ],
      "metadata": {
        "id": "FZBIJai1yM5A"
      }
    },
    {
      "cell_type": "markdown",
      "source": [
        "#### Hechos de goles"
      ],
      "metadata": {
        "id": "kN-kWW-zyY_i"
      }
    },
    {
      "cell_type": "markdown",
      "source": [
        "##### Primero empiezo por los goles del local con la misma lógica de jugadores"
      ],
      "metadata": {
        "id": "oGY4OgiN5bI8"
      }
    },
    {
      "cell_type": "code",
      "source": [
        "# Selecciono los goles local\n",
        "f_goles1 = df_parquet.select(\n",
        "    df_parquet['home_goal'].alias('player'),\n",
        ")\n",
        "\n",
        "# Asignar un ID que es el del partido\n",
        "f_goles1 = f_goles1.withColumn(\"match_id\", monotonically_increasing_id() + 1)\n",
        "\n",
        "# Limpiamos player para extraer fácil el nombre\n",
        "f_goles1 = f_goles1.withColumn(\"player\", regexp_replace(col(\"player\"), r\"\\(P\\)\", \"\"))\n",
        "f_goles1 = f_goles1.withColumn(\"player\", regexp_replace(col(\"player\"), \"\\s+\", \"\"))\n",
        "f_goles1 = f_goles1.withColumn(\"player\", regexp_replace(col(\"player\"), \"·\", \"\"))\n",
        "f_goles1 = f_goles1.withColumn(\"player\", regexp_replace(col(\"player\"), \"\\|\", \",\"))\n",
        "f_goles1 = f_goles1.withColumn(\"player\", regexp_replace(col(\"player\"), r'(?<=[a-z])(?=[A-Z])', ' '))\n",
        "f_goles1 = f_goles1.withColumn(\"player\", regexp_replace(col(\"player\"), r\"\\+.+\", \"\"))\n",
        "f_goles1 = f_goles1.withColumn(\"player\", trim(col(\"player\")))\n",
        "\n",
        "# Hacemos un registro para cada jugador\n",
        "f_goles1 = f_goles1.withColumn(\"player\", explode(split(col(\"player\"), \",\")))\n",
        "f_goles1 = f_goles1.withColumn(\"player\", trim(col(\"player\")))\n",
        "\n",
        "# Quitamos el minuto del jugador y lo pasamos a la columna minute\n",
        "f_goles1 = f_goles1.withColumn(\"minute\", regexp_extract(col(\"player\"), r'(\\d+)$', 1))\n",
        "f_goles1 = f_goles1.withColumn(\"player\", regexp_extract(col(\"player\"), r'^(.*?)\\d+', 1))\n",
        "\n",
        "# Uno con dim team para extraer el id y quito la columna team porque ya no la ocupo\n",
        "f_goles1 = f_goles1.join(dim_players, f_goles1.player == dim_players.player, \"inner\")\n",
        "f_goles1 = f_goles1.drop('team','player','team_id')\n",
        "f_goles1 = f_goles1.withColumnRenamed('id','player_id')\n",
        "\n",
        "# Así quedaría\n",
        "f_goles1.show(5)"
      ],
      "metadata": {
        "id": "vFaUzI5uzaRw",
        "colab": {
          "base_uri": "https://localhost:8080/"
        },
        "outputId": "99ad412d-2df2-4f5d-857d-e973b32b3d29"
      },
      "execution_count": 11,
      "outputs": [
        {
          "output_type": "stream",
          "name": "stdout",
          "text": [
            "+--------+------+---------+\n",
            "|match_id|minute|player_id|\n",
            "+--------+------+---------+\n",
            "|     448|    59|        1|\n",
            "|     962|     1|        9|\n",
            "|     911|    79|       11|\n",
            "|     911|    30|       11|\n",
            "|     901|     4|       11|\n",
            "+--------+------+---------+\n",
            "only showing top 5 rows\n",
            "\n"
          ]
        }
      ]
    },
    {
      "cell_type": "markdown",
      "source": [
        "##### Ahora goles de visita"
      ],
      "metadata": {
        "id": "Lo2QQIqu5iwj"
      }
    },
    {
      "cell_type": "code",
      "source": [
        "# Selecciono los goles visitantes\n",
        "f_goles2 = df_parquet.select(\n",
        "    df_parquet['away_goal'].alias('player'),\n",
        ")\n",
        "\n",
        "# Asignar un ID de partido\n",
        "f_goles2 = f_goles2.withColumn(\"match_id\", monotonically_increasing_id() + 1)\n",
        "\n",
        "# Limpiamos player para extraer fácil el nombre\n",
        "f_goles2 = f_goles2.withColumn(\"player\", regexp_replace(col(\"player\"), r\"\\(P\\)\", \"\"))\n",
        "f_goles2 = f_goles2.withColumn(\"player\", regexp_replace(col(\"player\"), \"\\s+\", \"\"))\n",
        "f_goles2 = f_goles2.withColumn(\"player\", regexp_replace(col(\"player\"), \"·\", \"\"))\n",
        "f_goles2 = f_goles2.withColumn(\"player\", regexp_replace(col(\"player\"), \"\\|\", \",\"))\n",
        "f_goles2 = f_goles2.withColumn(\"player\", regexp_replace(col(\"player\"), r'(?<=[a-z])(?=[A-Z])', ' '))\n",
        "f_goles2 = f_goles2.withColumn(\"player\", regexp_replace(col(\"player\"), r\"\\+.+\", \"\"))\n",
        "f_goles2 = f_goles2.withColumn(\"player\", trim(col(\"player\")))\n",
        "\n",
        "# Hacemos un registro para cada jugador\n",
        "f_goles2 = f_goles2.withColumn(\"player\", explode(split(col(\"player\"), \",\")))\n",
        "f_goles2 = f_goles2.withColumn(\"player\", trim(col(\"player\")))\n",
        "\n",
        "# Quitamos el minuto del jugador y lo pasamos a la columna minute\n",
        "f_goles2 = f_goles2.withColumn(\"minute\", regexp_extract(col(\"player\"), r'(\\d+)$', 1))\n",
        "f_goles2 = f_goles2.withColumn(\"player\", regexp_extract(col(\"player\"), r'^(.*?)\\d+', 1))\n",
        "\n",
        "# Uno con dim team para extraer el id y quito la columna team porque ya no la ocupo\n",
        "f_goles2 = f_goles2.join(dim_players, f_goles2.player == dim_players.player, \"inner\")\n",
        "f_goles2 = f_goles2.drop('team','player','team_id')\n",
        "f_goles2 = f_goles2.withColumnRenamed('id','player_id')\n",
        "\n",
        "# Así quedaría\n",
        "f_goles2.show(5)"
      ],
      "metadata": {
        "colab": {
          "base_uri": "https://localhost:8080/"
        },
        "id": "UOu3Rien5lJ6",
        "outputId": "98b06414-a28a-4830-a240-10c01f7c499a"
      },
      "execution_count": 12,
      "outputs": [
        {
          "output_type": "stream",
          "name": "stdout",
          "text": [
            "+--------+------+---------+\n",
            "|match_id|minute|player_id|\n",
            "+--------+------+---------+\n",
            "|     416|    47|        1|\n",
            "|     576|    62|        2|\n",
            "|     162|    38|        3|\n",
            "|     140|   120|        3|\n",
            "|     576|    27|        4|\n",
            "+--------+------+---------+\n",
            "only showing top 5 rows\n",
            "\n"
          ]
        }
      ]
    },
    {
      "cell_type": "markdown",
      "source": [
        "##### Ahora goles de penal local"
      ],
      "metadata": {
        "id": "FAYEMJIQ58_B"
      }
    },
    {
      "cell_type": "code",
      "source": [
        "# Selecciono los penales\n",
        "f_goles3 = df_parquet.select(\n",
        "    df_parquet['home_penalty_goal'].alias('player'),\n",
        ")\n",
        "\n",
        "# Asignar un ID del partido\n",
        "f_goles3 = f_goles3.withColumn(\"match_id\", monotonically_increasing_id() + 1)\n",
        "\n",
        "# Limpiamos player para extraer fácil el nombre\n",
        "f_goles3 = f_goles3.withColumn(\"player\", regexp_replace(col(\"player\"), r\"\\(P\\)\", \"\"))\n",
        "f_goles3 = f_goles3.withColumn(\"player\", regexp_replace(col(\"player\"), \"\\s+\", \"\"))\n",
        "f_goles3 = f_goles3.withColumn(\"player\", regexp_replace(col(\"player\"), \"·\", \"\"))\n",
        "f_goles3 = f_goles3.withColumn(\"player\", regexp_replace(col(\"player\"), \"\\|\", \",\"))\n",
        "f_goles3 = f_goles3.withColumn(\"player\", regexp_replace(col(\"player\"), r'(?<=[a-z])(?=[A-Z])', ' '))\n",
        "f_goles3 = f_goles3.withColumn(\"player\", regexp_replace(col(\"player\"), r\"\\+.+\", \"\"))\n",
        "f_goles3 = f_goles3.withColumn(\"player\", trim(col(\"player\")))\n",
        "\n",
        "# Hacemos un registro para cada jugador\n",
        "f_goles3 = f_goles3.withColumn(\"player\", explode(split(col(\"player\"), \",\")))\n",
        "f_goles3 = f_goles3.withColumn(\"player\", trim(col(\"player\")))\n",
        "\n",
        "# Quitamos el minuto del jugador y lo pasamos a la columna minute\n",
        "f_goles3 = f_goles3.withColumn(\"minute\", regexp_extract(col(\"player\"), r'(\\d+)$', 1))\n",
        "f_goles3 = f_goles3.withColumn(\"player\", regexp_extract(col(\"player\"), r'^(.*?)\\d+', 1))\n",
        "\n",
        "# Uno con dim team para extraer el id y quito la columna team porque ya no la ocupo\n",
        "f_goles3 = f_goles3.join(dim_players, f_goles3.player == dim_players.player, \"inner\")\n",
        "f_goles3 = f_goles3.drop('team','player','team_id')\n",
        "f_goles3 = f_goles3.withColumnRenamed('id','player_id')\n",
        "\n",
        "# Así quedaría\n",
        "f_goles3.show(5)"
      ],
      "metadata": {
        "colab": {
          "base_uri": "https://localhost:8080/"
        },
        "id": "9WfLPrRm6lGl",
        "outputId": "2ef20565-689b-4a45-f490-21d306e76129"
      },
      "execution_count": 13,
      "outputs": [
        {
          "output_type": "stream",
          "name": "stdout",
          "text": [
            "+--------+------+---------+\n",
            "|match_id|minute|player_id|\n",
            "+--------+------+---------+\n",
            "|     800|    84|       14|\n",
            "|     458|    18|       34|\n",
            "|     590|     6|       52|\n",
            "|     744|    50|       69|\n",
            "|     501|    85|       82|\n",
            "+--------+------+---------+\n",
            "only showing top 5 rows\n",
            "\n"
          ]
        }
      ]
    },
    {
      "cell_type": "markdown",
      "source": [
        "##### Por último hacemos los penales de visita"
      ],
      "metadata": {
        "id": "uEHbuLhg7UOa"
      }
    },
    {
      "cell_type": "code",
      "source": [
        "# Selecciono los goles de penal de visita\n",
        "f_goles4 = df_parquet.select(\n",
        "    df_parquet['away_penalty_goal'].alias('player'),\n",
        ")\n",
        "\n",
        "# Asignar un ID único a cada registro\n",
        "f_goles4 = f_goles4.withColumn(\"match_id\", monotonically_increasing_id() + 1)\n",
        "\n",
        "# Limpiamos player para extraer fácil el nombre\n",
        "f_goles4 = f_goles4.withColumn(\"player\", regexp_replace(col(\"player\"), r\"\\(P\\)\", \"\"))\n",
        "f_goles4 = f_goles4.withColumn(\"player\", regexp_replace(col(\"player\"), \"\\s+\", \"\"))\n",
        "f_goles4 = f_goles4.withColumn(\"player\", regexp_replace(col(\"player\"), \"·\", \"\"))\n",
        "f_goles4 = f_goles4.withColumn(\"player\", regexp_replace(col(\"player\"), \"\\|\", \",\"))\n",
        "f_goles4 = f_goles4.withColumn(\"player\", regexp_replace(col(\"player\"), r'(?<=[a-z])(?=[A-Z])', ' '))\n",
        "f_goles4 = f_goles4.withColumn(\"player\", regexp_replace(col(\"player\"), r\"\\+.+\", \"\"))\n",
        "f_goles4 = f_goles4.withColumn(\"player\", trim(col(\"player\")))\n",
        "\n",
        "# Hacemos un registro para cada jugador\n",
        "f_goles4 = f_goles4.withColumn(\"player\", explode(split(col(\"player\"), \",\")))\n",
        "f_goles4 = f_goles4.withColumn(\"player\", trim(col(\"player\")))\n",
        "\n",
        "# Quitamos el minuto del jugador y lo pasamos a la columna minute\n",
        "f_goles4 = f_goles4.withColumn(\"minute\", regexp_extract(col(\"player\"), r'(\\d+)$', 1))\n",
        "f_goles4 = f_goles4.withColumn(\"player\", regexp_extract(col(\"player\"), r'^(.*?)\\d+', 1))\n",
        "\n",
        "# Uno con dim team para extraer el id y quito la columna team porque ya no la ocupo\n",
        "f_goles4 = f_goles4.join(dim_players, f_goles4.player == dim_players.player, \"inner\")\n",
        "f_goles4 = f_goles4.drop('team','player','team_id')\n",
        "f_goles4 = f_goles4.withColumnRenamed('id','player_id')\n",
        "\n",
        "# Así quedaría\n",
        "f_goles4.show(5)"
      ],
      "metadata": {
        "colab": {
          "base_uri": "https://localhost:8080/"
        },
        "id": "ING0DzlU7879",
        "outputId": "28de19c7-162a-436d-f7c6-8e28a6eb585a"
      },
      "execution_count": 14,
      "outputs": [
        {
          "output_type": "stream",
          "name": "stdout",
          "text": [
            "+--------+------+---------+\n",
            "|match_id|minute|player_id|\n",
            "+--------+------+---------+\n",
            "|     394|     9|       30|\n",
            "|     423|    55|       34|\n",
            "|     562|    68|       80|\n",
            "|      86|    62|       84|\n",
            "|     413|    90|       85|\n",
            "+--------+------+---------+\n",
            "only showing top 5 rows\n",
            "\n"
          ]
        }
      ]
    },
    {
      "cell_type": "markdown",
      "source": [
        "##### Unimos todos los goles que sacamos por evento y hacemos su tabla de hechos asignando su ID"
      ],
      "metadata": {
        "id": "xy4X7cQC_YCW"
      }
    },
    {
      "cell_type": "code",
      "source": [
        "# Unimos\n",
        "f_goals = f_goles4.union(f_goles3).union(f_goles2).union(f_goles1)\n",
        "\n",
        "#Asignamos ID\n",
        "f_goals = f_goals.withColumn(\"id\", monotonically_increasing_id() + 1)\n",
        "\n",
        "# Mostrar la tabla de hechos\n",
        "f_goals.show(5)"
      ],
      "metadata": {
        "colab": {
          "base_uri": "https://localhost:8080/"
        },
        "id": "950_NvNv_cbQ",
        "outputId": "3699cb84-5a55-4a5e-f037-7c57ad7c2320"
      },
      "execution_count": 15,
      "outputs": [
        {
          "output_type": "stream",
          "name": "stdout",
          "text": [
            "+--------+------+---------+---+\n",
            "|match_id|minute|player_id| id|\n",
            "+--------+------+---------+---+\n",
            "|     394|     9|       30|  1|\n",
            "|     423|    55|       34|  2|\n",
            "|     562|    68|       80|  3|\n",
            "|      86|    62|       84|  4|\n",
            "|     413|    90|       85|  5|\n",
            "+--------+------+---------+---+\n",
            "only showing top 5 rows\n",
            "\n"
          ]
        }
      ]
    },
    {
      "cell_type": "markdown",
      "source": [
        "#### Hecho de tarjetas rojas"
      ],
      "metadata": {
        "id": "c66EuT9YEOoX"
      }
    },
    {
      "cell_type": "markdown",
      "source": [
        "##### Primero las tarjetas rojas locales"
      ],
      "metadata": {
        "id": "WKtbFf5dGVXi"
      }
    },
    {
      "cell_type": "code",
      "source": [
        "# Selecciono las rojas locales\n",
        "f_redcard1 = df_parquet.select(\n",
        "    df_parquet['home_red_card'].alias('player'),\n",
        "    df_parquet['referee'].alias('referee'),\n",
        ")\n",
        "\n",
        "# Asignar un ID que es el del partido\n",
        "f_redcard1 = f_redcard1.withColumn(\"match_id\", monotonically_increasing_id() + 1)\n",
        "\n",
        "# Limpiamos player para extraer fácil el nombre\n",
        "f_redcard1 = f_redcard1.withColumn(\"player\", regexp_replace(col(\"player\"), r\"\\(P\\)\", \"\"))\n",
        "f_redcard1 = f_redcard1.withColumn(\"player\", regexp_replace(col(\"player\"), \"\\s+\", \"\"))\n",
        "f_redcard1 = f_redcard1.withColumn(\"player\", regexp_replace(col(\"player\"), \"·\", \"\"))\n",
        "f_redcard1 = f_redcard1.withColumn(\"player\", regexp_replace(col(\"player\"), \"\\|\", \",\"))\n",
        "f_redcard1 = f_redcard1.withColumn(\"player\", regexp_replace(col(\"player\"), r'(?<=[a-z])(?=[A-Z])', ' '))\n",
        "f_redcard1 = f_redcard1.withColumn(\"player\", regexp_replace(col(\"player\"), r\"\\+.+\", \"\"))\n",
        "f_redcard1 = f_redcard1.withColumn(\"player\", trim(col(\"player\")))\n",
        "\n",
        "# Hacemos un registro para cada jugador\n",
        "f_redcard1 = f_redcard1.withColumn(\"player\", explode(split(col(\"player\"), \",\")))\n",
        "f_redcard1 = f_redcard1.withColumn(\"player\", trim(col(\"player\")))\n",
        "\n",
        "# Quitamos el minuto del jugador y lo pasamos a la columna minute\n",
        "f_redcard1 = f_redcard1.withColumn(\"minute\", regexp_extract(col(\"player\"), r'(\\d+)$', 1))\n",
        "f_redcard1 = f_redcard1.withColumn(\"player\", regexp_extract(col(\"player\"), r'^(.*?)\\d+', 1))\n",
        "\n",
        "# Uno con dim team para extraer el id y quito la columna team porque ya no la ocupo\n",
        "f_redcard1 = f_redcard1.join(dim_players, f_redcard1.player == dim_players.player, \"inner\")\n",
        "f_redcard1 = f_redcard1.drop('team','player','team_id')\n",
        "f_redcard1 = f_redcard1.withColumnRenamed('id','player_id')\n",
        "\n",
        "# Uno con dim team para extraer el id y quito la columna team porque ya no la ocupo\n",
        "f_redcard1 = f_redcard1.join(dim_referees, f_redcard1.referee == dim_referees.Referee, \"inner\")\n",
        "f_redcard1 = f_redcard1.drop('referee')\n",
        "f_redcard1 = f_redcard1.withColumnRenamed('id','referee_id')\n",
        "\n",
        "\n",
        "# Nos quedaría así\n",
        "f_redcard1.show(5)"
      ],
      "metadata": {
        "colab": {
          "base_uri": "https://localhost:8080/"
        },
        "id": "BYcv_LeNFzso",
        "outputId": "419dcfa1-4b2f-42e6-a459-90aa8ab75daf"
      },
      "execution_count": 16,
      "outputs": [
        {
          "output_type": "stream",
          "name": "stdout",
          "text": [
            "+--------+------+---------+----------+\n",
            "|match_id|minute|player_id|referee_id|\n",
            "+--------+------+---------+----------+\n",
            "|     175|    40|       54|        32|\n",
            "|     159|    89|      109|        64|\n",
            "|     152|    50|      118|        80|\n",
            "|     918|    89|      132|        36|\n",
            "|     112|     3|      207|       155|\n",
            "+--------+------+---------+----------+\n",
            "only showing top 5 rows\n",
            "\n"
          ]
        }
      ]
    },
    {
      "cell_type": "markdown",
      "source": [
        "##### Ahora las rojas visitantes"
      ],
      "metadata": {
        "id": "wWJ7_ZV8JPBu"
      }
    },
    {
      "cell_type": "code",
      "source": [
        "# Selecciono los rojas visitantes\n",
        "f_redcard2 = df_parquet.select(\n",
        "    df_parquet['away_red_card'].alias('player'),\n",
        "    df_parquet['referee'].alias('referee'),\n",
        ")\n",
        "\n",
        "# Asignar un ID que es el del partido\n",
        "f_redcard2 = f_redcard2.withColumn(\"match_id\", monotonically_increasing_id() + 1)\n",
        "\n",
        "# Limpiamos player para extraer fácil el nombre\n",
        "f_redcard2 = f_redcard2.withColumn(\"player\", regexp_replace(col(\"player\"), r\"\\(P\\)\", \"\"))\n",
        "f_redcard2 = f_redcard2.withColumn(\"player\", regexp_replace(col(\"player\"), \"\\s+\", \"\"))\n",
        "f_redcard2 = f_redcard2.withColumn(\"player\", regexp_replace(col(\"player\"), \"·\", \"\"))\n",
        "f_redcard2 = f_redcard2.withColumn(\"player\", regexp_replace(col(\"player\"), \"\\|\", \",\"))\n",
        "f_redcard2 = f_redcard2.withColumn(\"player\", regexp_replace(col(\"player\"), r'(?<=[a-z])(?=[A-Z])', ' '))\n",
        "f_redcard2 = f_redcard2.withColumn(\"player\", regexp_replace(col(\"player\"), r\"\\+.+\", \"\"))\n",
        "f_redcard2 = f_redcard2.withColumn(\"player\", trim(col(\"player\")))\n",
        "\n",
        "# Hacemos un registro para cada jugador\n",
        "f_redcard2 = f_redcard2.withColumn(\"player\", explode(split(col(\"player\"), \",\")))\n",
        "f_redcard2 = f_redcard2.withColumn(\"player\", trim(col(\"player\")))\n",
        "\n",
        "# Quitamos el minuto del jugador y lo pasamos a la columna minute\n",
        "f_redcard2 = f_redcard2.withColumn(\"minute\", regexp_extract(col(\"player\"), r'(\\d+)$', 1))\n",
        "f_redcard2 = f_redcard2.withColumn(\"player\", regexp_extract(col(\"player\"), r'^(.*?)\\d+', 1))\n",
        "\n",
        "# Uno con dim team para extraer el id y quito la columna team porque ya no la ocupo\n",
        "f_redcard2 = f_redcard2.join(dim_players, f_redcard2.player == dim_players.player, \"inner\")\n",
        "f_redcard2 = f_redcard2.drop('team','player','team_id')\n",
        "f_redcard2 = f_redcard2.withColumnRenamed('id','player_id')\n",
        "\n",
        "# Uno con dim team para extraer el id y quito la columna team porque ya no la ocupo\n",
        "f_redcard2 = f_redcard2.join(dim_referees, f_redcard2.referee == dim_referees.Referee, \"inner\")\n",
        "f_redcard2 = f_redcard2.drop('referee')\n",
        "f_redcard2 = f_redcard2.withColumnRenamed('id','referee_id')\n",
        "\n",
        "\n",
        "# Lo imprimimos\n",
        "f_redcard2.show(5)"
      ],
      "metadata": {
        "colab": {
          "base_uri": "https://localhost:8080/"
        },
        "id": "8Z7t1AcsJOqn",
        "outputId": "1157c4b0-470d-45fa-d803-bd7cc0234cd5"
      },
      "execution_count": 17,
      "outputs": [
        {
          "output_type": "stream",
          "name": "stdout",
          "text": [
            "+--------+------+---------+----------+\n",
            "|match_id|minute|player_id|referee_id|\n",
            "+--------+------+---------+----------+\n",
            "|     617|    84|       75|        68|\n",
            "|     693|    88|       97|       130|\n",
            "|     552|    61|      101|       166|\n",
            "|     770|    35|      117|         9|\n",
            "|     552|    88|      149|       166|\n",
            "+--------+------+---------+----------+\n",
            "only showing top 5 rows\n",
            "\n"
          ]
        }
      ]
    },
    {
      "cell_type": "markdown",
      "source": [
        "##### Hacemos la tabla de hechos"
      ],
      "metadata": {
        "id": "R8lhdW0HLTlN"
      }
    },
    {
      "cell_type": "code",
      "source": [
        "# Unimos\n",
        "f_red_cards = f_redcard1.union(f_redcard2)\n",
        "\n",
        "#Asignamos ID\n",
        "f_red_cards = f_red_cards.withColumn(\"id\", monotonically_increasing_id() + 1)\n",
        "\n",
        "# Mostrar la tabla de hechos\n",
        "f_red_cards.show(5)"
      ],
      "metadata": {
        "colab": {
          "base_uri": "https://localhost:8080/"
        },
        "id": "x6ByzX54LVWf",
        "outputId": "998bc2a5-cbfe-48f4-874d-b1edf44b4988"
      },
      "execution_count": 18,
      "outputs": [
        {
          "output_type": "stream",
          "name": "stdout",
          "text": [
            "+--------+------+---------+----------+---+\n",
            "|match_id|minute|player_id|referee_id| id|\n",
            "+--------+------+---------+----------+---+\n",
            "|     175|    40|       54|        32|  1|\n",
            "|     159|    89|      109|        64|  2|\n",
            "|     152|    50|      118|        80|  3|\n",
            "|     918|    89|      132|        36|  4|\n",
            "|     112|     3|      207|       155|  5|\n",
            "+--------+------+---------+----------+---+\n",
            "only showing top 5 rows\n",
            "\n"
          ]
        }
      ]
    },
    {
      "cell_type": "markdown",
      "source": [
        "## Load"
      ],
      "metadata": {
        "id": "-EW7D9m-RK9-"
      }
    },
    {
      "cell_type": "markdown",
      "source": [
        "#### En mi caso los pasaré a csv para que todos puedan acceder a ellos por si quisieran usarlos"
      ],
      "metadata": {
        "id": "10YIaT2rRQhE"
      }
    },
    {
      "cell_type": "code",
      "source": [
        "# dim_teams\n",
        "dim_teams_pandas = dim_teams.toPandas()\n",
        "dim_teams_pandas.to_csv('dim_teams.csv', index=False, encoding='utf-8')\n",
        "\n",
        "# dim_referees\n",
        "dim_referees_pandas = dim_referees.toPandas()\n",
        "dim_referees_pandas.to_csv('dim_referees.csv', index=False, encoding='utf-8')\n",
        "\n",
        "# dim_matches\n",
        "dim_matches_pandas = dim_matches.toPandas()\n",
        "dim_matches_pandas.to_csv('dim_matches.csv', index=False, encoding='utf-8')\n",
        "\n",
        "# dim_players\n",
        "dim_players_pandas = dim_players.toPandas()\n",
        "dim_players_pandas.to_csv('dim_players.csv', index=False, encoding='utf-8')\n",
        "\n",
        "# f_goals\n",
        "f_goals_pandas = f_goals.toPandas()\n",
        "f_goals_pandas.to_csv('f_goals.csv', index=False, encoding='utf-8')\n",
        "\n",
        "# f_red_cards\n",
        "f_red_cards_pandas = f_red_cards.toPandas()\n",
        "f_red_cards_pandas.to_csv('f_red_cards.csv', index=False, encoding='utf-8')\n",
        "\n",
        "# Descargar cada archivo CSV\n",
        "files.download('dim_teams.csv')\n",
        "files.download('dim_referees.csv')\n",
        "files.download('dim_matches.csv')\n",
        "files.download('dim_players.csv')\n",
        "files.download('f_goals.csv')\n",
        "files.download('f_red_cards.csv')\n"
      ],
      "metadata": {
        "colab": {
          "base_uri": "https://localhost:8080/",
          "height": 17
        },
        "id": "Qc9enpulxOnv",
        "outputId": "05a1c7e7-97f2-4c92-9a07-868bafda9dac"
      },
      "execution_count": 19,
      "outputs": [
        {
          "output_type": "display_data",
          "data": {
            "text/plain": [
              "<IPython.core.display.Javascript object>"
            ],
            "application/javascript": [
              "\n",
              "    async function download(id, filename, size) {\n",
              "      if (!google.colab.kernel.accessAllowed) {\n",
              "        return;\n",
              "      }\n",
              "      const div = document.createElement('div');\n",
              "      const label = document.createElement('label');\n",
              "      label.textContent = `Downloading \"${filename}\": `;\n",
              "      div.appendChild(label);\n",
              "      const progress = document.createElement('progress');\n",
              "      progress.max = size;\n",
              "      div.appendChild(progress);\n",
              "      document.body.appendChild(div);\n",
              "\n",
              "      const buffers = [];\n",
              "      let downloaded = 0;\n",
              "\n",
              "      const channel = await google.colab.kernel.comms.open(id);\n",
              "      // Send a message to notify the kernel that we're ready.\n",
              "      channel.send({})\n",
              "\n",
              "      for await (const message of channel.messages) {\n",
              "        // Send a message to notify the kernel that we're ready.\n",
              "        channel.send({})\n",
              "        if (message.buffers) {\n",
              "          for (const buffer of message.buffers) {\n",
              "            buffers.push(buffer);\n",
              "            downloaded += buffer.byteLength;\n",
              "            progress.value = downloaded;\n",
              "          }\n",
              "        }\n",
              "      }\n",
              "      const blob = new Blob(buffers, {type: 'application/binary'});\n",
              "      const a = document.createElement('a');\n",
              "      a.href = window.URL.createObjectURL(blob);\n",
              "      a.download = filename;\n",
              "      div.appendChild(a);\n",
              "      a.click();\n",
              "      div.remove();\n",
              "    }\n",
              "  "
            ]
          },
          "metadata": {}
        },
        {
          "output_type": "display_data",
          "data": {
            "text/plain": [
              "<IPython.core.display.Javascript object>"
            ],
            "application/javascript": [
              "download(\"download_4880cad3-fc21-4d29-87f1-9bdd57ac0517\", \"dim_teams.csv\", 1086)"
            ]
          },
          "metadata": {}
        },
        {
          "output_type": "display_data",
          "data": {
            "text/plain": [
              "<IPython.core.display.Javascript object>"
            ],
            "application/javascript": [
              "\n",
              "    async function download(id, filename, size) {\n",
              "      if (!google.colab.kernel.accessAllowed) {\n",
              "        return;\n",
              "      }\n",
              "      const div = document.createElement('div');\n",
              "      const label = document.createElement('label');\n",
              "      label.textContent = `Downloading \"${filename}\": `;\n",
              "      div.appendChild(label);\n",
              "      const progress = document.createElement('progress');\n",
              "      progress.max = size;\n",
              "      div.appendChild(progress);\n",
              "      document.body.appendChild(div);\n",
              "\n",
              "      const buffers = [];\n",
              "      let downloaded = 0;\n",
              "\n",
              "      const channel = await google.colab.kernel.comms.open(id);\n",
              "      // Send a message to notify the kernel that we're ready.\n",
              "      channel.send({})\n",
              "\n",
              "      for await (const message of channel.messages) {\n",
              "        // Send a message to notify the kernel that we're ready.\n",
              "        channel.send({})\n",
              "        if (message.buffers) {\n",
              "          for (const buffer of message.buffers) {\n",
              "            buffers.push(buffer);\n",
              "            downloaded += buffer.byteLength;\n",
              "            progress.value = downloaded;\n",
              "          }\n",
              "        }\n",
              "      }\n",
              "      const blob = new Blob(buffers, {type: 'application/binary'});\n",
              "      const a = document.createElement('a');\n",
              "      a.href = window.URL.createObjectURL(blob);\n",
              "      a.download = filename;\n",
              "      div.appendChild(a);\n",
              "      a.click();\n",
              "      div.remove();\n",
              "    }\n",
              "  "
            ]
          },
          "metadata": {}
        },
        {
          "output_type": "display_data",
          "data": {
            "text/plain": [
              "<IPython.core.display.Javascript object>"
            ],
            "application/javascript": [
              "download(\"download_574db2b2-5b48-4473-8799-217ea4745723\", \"dim_referees.csv\", 6455)"
            ]
          },
          "metadata": {}
        },
        {
          "output_type": "display_data",
          "data": {
            "text/plain": [
              "<IPython.core.display.Javascript object>"
            ],
            "application/javascript": [
              "\n",
              "    async function download(id, filename, size) {\n",
              "      if (!google.colab.kernel.accessAllowed) {\n",
              "        return;\n",
              "      }\n",
              "      const div = document.createElement('div');\n",
              "      const label = document.createElement('label');\n",
              "      label.textContent = `Downloading \"${filename}\": `;\n",
              "      div.appendChild(label);\n",
              "      const progress = document.createElement('progress');\n",
              "      progress.max = size;\n",
              "      div.appendChild(progress);\n",
              "      document.body.appendChild(div);\n",
              "\n",
              "      const buffers = [];\n",
              "      let downloaded = 0;\n",
              "\n",
              "      const channel = await google.colab.kernel.comms.open(id);\n",
              "      // Send a message to notify the kernel that we're ready.\n",
              "      channel.send({})\n",
              "\n",
              "      for await (const message of channel.messages) {\n",
              "        // Send a message to notify the kernel that we're ready.\n",
              "        channel.send({})\n",
              "        if (message.buffers) {\n",
              "          for (const buffer of message.buffers) {\n",
              "            buffers.push(buffer);\n",
              "            downloaded += buffer.byteLength;\n",
              "            progress.value = downloaded;\n",
              "          }\n",
              "        }\n",
              "      }\n",
              "      const blob = new Blob(buffers, {type: 'application/binary'});\n",
              "      const a = document.createElement('a');\n",
              "      a.href = window.URL.createObjectURL(blob);\n",
              "      a.download = filename;\n",
              "      div.appendChild(a);\n",
              "      a.click();\n",
              "      div.remove();\n",
              "    }\n",
              "  "
            ]
          },
          "metadata": {}
        },
        {
          "output_type": "display_data",
          "data": {
            "text/plain": [
              "<IPython.core.display.Javascript object>"
            ],
            "application/javascript": [
              "download(\"download_a6db0cca-4f3a-4f02-ab8b-a9efd3c82432\", \"dim_matches.csv\", 39118)"
            ]
          },
          "metadata": {}
        },
        {
          "output_type": "display_data",
          "data": {
            "text/plain": [
              "<IPython.core.display.Javascript object>"
            ],
            "application/javascript": [
              "\n",
              "    async function download(id, filename, size) {\n",
              "      if (!google.colab.kernel.accessAllowed) {\n",
              "        return;\n",
              "      }\n",
              "      const div = document.createElement('div');\n",
              "      const label = document.createElement('label');\n",
              "      label.textContent = `Downloading \"${filename}\": `;\n",
              "      div.appendChild(label);\n",
              "      const progress = document.createElement('progress');\n",
              "      progress.max = size;\n",
              "      div.appendChild(progress);\n",
              "      document.body.appendChild(div);\n",
              "\n",
              "      const buffers = [];\n",
              "      let downloaded = 0;\n",
              "\n",
              "      const channel = await google.colab.kernel.comms.open(id);\n",
              "      // Send a message to notify the kernel that we're ready.\n",
              "      channel.send({})\n",
              "\n",
              "      for await (const message of channel.messages) {\n",
              "        // Send a message to notify the kernel that we're ready.\n",
              "        channel.send({})\n",
              "        if (message.buffers) {\n",
              "          for (const buffer of message.buffers) {\n",
              "            buffers.push(buffer);\n",
              "            downloaded += buffer.byteLength;\n",
              "            progress.value = downloaded;\n",
              "          }\n",
              "        }\n",
              "      }\n",
              "      const blob = new Blob(buffers, {type: 'application/binary'});\n",
              "      const a = document.createElement('a');\n",
              "      a.href = window.URL.createObjectURL(blob);\n",
              "      a.download = filename;\n",
              "      div.appendChild(a);\n",
              "      a.click();\n",
              "      div.remove();\n",
              "    }\n",
              "  "
            ]
          },
          "metadata": {}
        },
        {
          "output_type": "display_data",
          "data": {
            "text/plain": [
              "<IPython.core.display.Javascript object>"
            ],
            "application/javascript": [
              "download(\"download_27a354dd-038b-4a16-aae8-5846623149b0\", \"dim_players.csv\", 32565)"
            ]
          },
          "metadata": {}
        },
        {
          "output_type": "display_data",
          "data": {
            "text/plain": [
              "<IPython.core.display.Javascript object>"
            ],
            "application/javascript": [
              "\n",
              "    async function download(id, filename, size) {\n",
              "      if (!google.colab.kernel.accessAllowed) {\n",
              "        return;\n",
              "      }\n",
              "      const div = document.createElement('div');\n",
              "      const label = document.createElement('label');\n",
              "      label.textContent = `Downloading \"${filename}\": `;\n",
              "      div.appendChild(label);\n",
              "      const progress = document.createElement('progress');\n",
              "      progress.max = size;\n",
              "      div.appendChild(progress);\n",
              "      document.body.appendChild(div);\n",
              "\n",
              "      const buffers = [];\n",
              "      let downloaded = 0;\n",
              "\n",
              "      const channel = await google.colab.kernel.comms.open(id);\n",
              "      // Send a message to notify the kernel that we're ready.\n",
              "      channel.send({})\n",
              "\n",
              "      for await (const message of channel.messages) {\n",
              "        // Send a message to notify the kernel that we're ready.\n",
              "        channel.send({})\n",
              "        if (message.buffers) {\n",
              "          for (const buffer of message.buffers) {\n",
              "            buffers.push(buffer);\n",
              "            downloaded += buffer.byteLength;\n",
              "            progress.value = downloaded;\n",
              "          }\n",
              "        }\n",
              "      }\n",
              "      const blob = new Blob(buffers, {type: 'application/binary'});\n",
              "      const a = document.createElement('a');\n",
              "      a.href = window.URL.createObjectURL(blob);\n",
              "      a.download = filename;\n",
              "      div.appendChild(a);\n",
              "      a.click();\n",
              "      div.remove();\n",
              "    }\n",
              "  "
            ]
          },
          "metadata": {}
        },
        {
          "output_type": "display_data",
          "data": {
            "text/plain": [
              "<IPython.core.display.Javascript object>"
            ],
            "application/javascript": [
              "download(\"download_281c0891-48fe-454f-835b-088e2ec720eb\", \"f_goals.csv\", 60090)"
            ]
          },
          "metadata": {}
        },
        {
          "output_type": "display_data",
          "data": {
            "text/plain": [
              "<IPython.core.display.Javascript object>"
            ],
            "application/javascript": [
              "\n",
              "    async function download(id, filename, size) {\n",
              "      if (!google.colab.kernel.accessAllowed) {\n",
              "        return;\n",
              "      }\n",
              "      const div = document.createElement('div');\n",
              "      const label = document.createElement('label');\n",
              "      label.textContent = `Downloading \"${filename}\": `;\n",
              "      div.appendChild(label);\n",
              "      const progress = document.createElement('progress');\n",
              "      progress.max = size;\n",
              "      div.appendChild(progress);\n",
              "      document.body.appendChild(div);\n",
              "\n",
              "      const buffers = [];\n",
              "      let downloaded = 0;\n",
              "\n",
              "      const channel = await google.colab.kernel.comms.open(id);\n",
              "      // Send a message to notify the kernel that we're ready.\n",
              "      channel.send({})\n",
              "\n",
              "      for await (const message of channel.messages) {\n",
              "        // Send a message to notify the kernel that we're ready.\n",
              "        channel.send({})\n",
              "        if (message.buffers) {\n",
              "          for (const buffer of message.buffers) {\n",
              "            buffers.push(buffer);\n",
              "            downloaded += buffer.byteLength;\n",
              "            progress.value = downloaded;\n",
              "          }\n",
              "        }\n",
              "      }\n",
              "      const blob = new Blob(buffers, {type: 'application/binary'});\n",
              "      const a = document.createElement('a');\n",
              "      a.href = window.URL.createObjectURL(blob);\n",
              "      a.download = filename;\n",
              "      div.appendChild(a);\n",
              "      a.click();\n",
              "      div.remove();\n",
              "    }\n",
              "  "
            ]
          },
          "metadata": {}
        },
        {
          "output_type": "display_data",
          "data": {
            "text/plain": [
              "<IPython.core.display.Javascript object>"
            ],
            "application/javascript": [
              "download(\"download_7073818e-7dab-4c36-a335-6de3a047b60f\", \"f_red_cards.csv\", 1707)"
            ]
          },
          "metadata": {}
        }
      ]
    }
  ]
}