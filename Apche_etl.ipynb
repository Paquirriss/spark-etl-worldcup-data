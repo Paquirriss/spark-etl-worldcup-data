{
  "nbformat": 4,
  "nbformat_minor": 0,
  "metadata": {
    "colab": {
      "provenance": []
    },
    "kernelspec": {
      "name": "python3",
      "display_name": "Python 3"
    },
    "language_info": {
      "name": "python"
    }
  },
  "cells": [
    {
      "cell_type": "markdown",
      "source": [
        "# ETL USANDO APACHE SPARK"
      ],
      "metadata": {
        "id": "Z8Oylq4Rf2UB"
      }
    },
    {
      "cell_type": "markdown",
      "source": [
        "## Extract"
      ],
      "metadata": {
        "id": "F31O0V8RgADN"
      }
    },
    {
      "cell_type": "markdown",
      "source": [
        "#### Instalación de apache spark"
      ],
      "metadata": {
        "id": "4f1i0p2vgD7-"
      }
    },
    {
      "cell_type": "code",
      "execution_count": 6,
      "metadata": {
        "colab": {
          "base_uri": "https://localhost:8080/",
          "height": 0
        },
        "id": "wQU33kQqf1Or",
        "outputId": "52ebcf1d-d49a-4be4-b74f-7284618d4ead"
      },
      "outputs": [
        {
          "output_type": "stream",
          "name": "stdout",
          "text": [
            "Requirement already satisfied: pyspark in /usr/local/lib/python3.10/dist-packages (3.5.1)\n",
            "Requirement already satisfied: py4j==0.10.9.7 in /usr/local/lib/python3.10/dist-packages (from pyspark) (0.10.9.7)\n"
          ]
        }
      ],
      "source": [
        "pip install pyspark"
      ]
    },
    {
      "cell_type": "markdown",
      "source": [
        "#### Importación de librerías que iré ocupando y creación de la sesión de Spark y agrego el UTF 8 para el tema de los acentos"
      ],
      "metadata": {
        "id": "8i4wWQV2gscM"
      }
    },
    {
      "cell_type": "code",
      "source": [
        "from google.colab import files\n",
        "from pyspark.sql import SparkSession\n",
        "from pyspark.sql.functions import monotonically_increasing_id,split,explode,expr,regexp_extract,trim,regexp_replace,col, to_date, concat, substring\n",
        "\n",
        "# Sesión de sparl\n",
        "spark = SparkSession.builder \\\n",
        "    .appName(\"ETL FIFA mundial\") \\\n",
        "    .config(\"spark.sql.parquet.outputEncoding\", \"UTF-8\") \\\n",
        "    .getOrCreate()"
      ],
      "metadata": {
        "id": "LeLqitmrgsKg"
      },
      "execution_count": 7,
      "outputs": []
    },
    {
      "cell_type": "markdown",
      "source": [
        "####  Leémos el CSV suvbido"
      ],
      "metadata": {
        "id": "x0GE-NM6x6Cm"
      }
    },
    {
      "cell_type": "code",
      "source": [
        "# Damos la ruta del mi archivo CSV\n",
        "csv_file_path = \"/content/dataset.csv\"\n",
        "\n",
        "# Leo y paso el csv a utf-8 para poder ver los caracteres de manera correcta\n",
        "df = spark.read.csv(csv_file_path, header=True, inferSchema=True, encoding=\"UTF-8\")\n",
        "\n",
        "# Veamos las primeras 5 filas y su esquema\n",
        "print(\"Schema:\")\n",
        "df.printSchema()\n",
        "print(\"Primeras 5 filas del DataFrame:\")\n",
        "df.show(5, truncate=False)"
      ],
      "metadata": {
        "colab": {
          "base_uri": "https://localhost:8080/",
          "height": 0
        },
        "id": "dqWeXwJ-zTaS",
        "outputId": "a1bdae8a-ab60-4a67-beab-1265e0954379"
      },
      "execution_count": 8,
      "outputs": [
        {
          "output_type": "stream",
          "name": "stdout",
          "text": [
            "Schema:\n",
            "root\n",
            " |-- home_team: string (nullable = true)\n",
            " |-- away_team: string (nullable = true)\n",
            " |-- away_penalty: integer (nullable = true)\n",
            " |-- Attendance: integer (nullable = true)\n",
            " |-- Venue: string (nullable = true)\n",
            " |-- Officials: string (nullable = true)\n",
            " |-- Round: string (nullable = true)\n",
            " |-- Date: string (nullable = true)\n",
            " |-- Referee: string (nullable = true)\n",
            " |-- Notes: string (nullable = true)\n",
            " |-- Host: string (nullable = true)\n",
            " |-- Year: integer (nullable = true)\n",
            " |-- home_goal: string (nullable = true)\n",
            " |-- away_goal: string (nullable = true)\n",
            " |-- home_penalty_goal: string (nullable = true)\n",
            " |-- away_penalty_goal: string (nullable = true)\n",
            " |-- home_red_card: string (nullable = true)\n",
            " |-- away_red_card: string (nullable = true)\n",
            " |-- home_yellow_red_card: string (nullable = true)\n",
            " |-- away_yellow_red_card: string (nullable = true)\n",
            "\n",
            "Primeras 5 filas del DataFrame:\n",
            "+---------+---------+------------+----------+-----------------------------------+------------------------------------------------------------------------------------------------------------------------------------------------+-----------------+----------+-----------------------------+---------------------------------------------------+-----+----+-----------------------------------------+------------------+---------------------+----------------------------------------------+-------------+-------------+---------------------+--------------------+\n",
            "|home_team|away_team|away_penalty|Attendance|Venue                              |Officials                                                                                                                                       |Round            |Date      |Referee                      |Notes                                              |Host |Year|home_goal                                |away_goal         |home_penalty_goal    |away_penalty_goal                             |home_red_card|away_red_card|home_yellow_red_card |away_yellow_red_card|\n",
            "+---------+---------+------------+----------+-----------------------------------+------------------------------------------------------------------------------------------------------------------------------------------------+-----------------+----------+-----------------------------+---------------------------------------------------+-----+----+-----------------------------------------+------------------+---------------------+----------------------------------------------+-------------+-------------+---------------------+--------------------+\n",
            "|Argentina|France   |2           |88966     |Lusail Iconic Stadium, Lusail      |Szymon Marciniak (Referee) · Paweł Sokolnicki (AR1) · Tomasz Listkiewicz (AR2) · Ismail Elfath (4th) · Tomasz Kwiatkowski (VAR)                 |Final            |18/12/2022|Szymon Marciniak             |Argentina won on penalty kicks following extra time|Qatar|2022|Ángel Di María · 36|Lionel Messi · 108   |Kylian Mbappé · 81|Lionel Messi (P) · 23|Kylian Mbappé (P) · 80|Kylian Mbappé (P) · 118|NULL         |NULL         |NULL                 |NULL                |\n",
            "|Croatia  |Morocco  |NULL        |44137     |Khalifa International Stadium, Doha|Abdulrahman Ibrahim Al Jassim (Referee) · Taleb Salem Al Marri (AR1) · Saoud Ahmed Al Maqaleh (AR2) · Raphael Claus (4th) · Julio Bascuñán (VAR)|Third-place match|17/12/2022|Abdulrahman Ibrahim Al Jassim|NULL                                               |Qatar|2022|Joško Gvardiol · 7|Mislav Oršić · 42     |Achraf Dari · 9   |NULL                 |NULL                                          |NULL         |NULL         |NULL                 |NULL                |\n",
            "|France   |Morocco  |NULL        |68294     |Al Bayt Stadium, Al Khor           |César Arturo Ramos (Referee) · Alberto Morín (AR1) · Miguel Ángel Hernández (AR2) · Jesús Valenzuela (4th) · Drew Fischer (VAR)                 |Semi-finals      |14/12/2022|César Arturo Ramos           |NULL                                               |Qatar|2022|Theo Hernández · 5|Randal Kolo Muani · 79|NULL              |NULL                 |NULL                                          |NULL         |NULL         |NULL                 |NULL                |\n",
            "|Argentina|Croatia  |NULL        |88966     |Lusail Iconic Stadium, Lusail      |Daniele Orsato (Referee) · Ciro Carbone (AR1) · Alessandro Giallatini (AR2) · Mohammed Abdulla Hassan (4th) · Massimiliano Irrati (VAR)         |Semi-finals      |13/12/2022|Daniele Orsato               |NULL                                               |Qatar|2022|Julián Álvarez · 39|Julián Álvarez · 69  |NULL              |Lionel Messi (P) · 34|NULL                                          |NULL         |NULL         |NULL                 |NULL                |\n",
            "|Morocco  |Portugal |NULL        |44198     |Al Thumama Stadium, ath-Thumāma    |Facundo Tello (Referee) · Ezequiel Brailovsky (AR1) · Gabriel Chade (AR2) · Iván Barton (4th) · Mauro Vigliano (VAR)                            |Quarter-finals   |10/12/2022|Facundo Tello                |NULL                                               |Qatar|2022|Youssef En-Nesyri · 42                   |NULL              |NULL                 |NULL                                          |NULL         |NULL         |Walid Cheddira · 90+3|NULL                |\n",
            "+---------+---------+------------+----------+-----------------------------------+------------------------------------------------------------------------------------------------------------------------------------------------+-----------------+----------+-----------------------------+---------------------------------------------------+-----+----+-----------------------------------------+------------------+---------------------+----------------------------------------------+-------------+-------------+---------------------+--------------------+\n",
            "only showing top 5 rows\n",
            "\n"
          ]
        }
      ]
    },
    {
      "cell_type": "markdown",
      "source": [
        "#### Empezaré a eliminar todas las columnas que sé que no me interesan analisar, muchas de ellas tienen la palbra long por lo que me ayudaré de un ciclo for y un extend"
      ],
      "metadata": {
        "id": "aSNY_Xiq0QAw"
      }
    },
    {
      "cell_type": "code",
      "source": [
        "# Lista de columnas a eliminar\n",
        "delete = [\n",
        "    \"home_xg\",\"away_xg\",\"home_manager\", \"away_manager\", \"home_manager\", \"away_manager\",\"home_captain\",\"away_penalty\",\"Score\",\n",
        "    \"away_captain\", \"home_captain\", \"away_captain\",\"Venue\", \"Officials\",\"Notes\",\"home_score\",\"away_score\",\"home_penalty\",\n",
        "    \"home_own_goal\", \"away_own_goal\",\"home_penalty_miss_long\",\"away_penalty_miss_long\",\"home_yellow_red_card\",\"away_yellow_red_card\",\n",
        "]\n",
        "\n",
        "# Tampoco necesito las columnas long menos las de penales\n",
        "long_quit = [col for col in df.columns if \"long\" in col and col not in [\"home_penalty_miss_long\", \"away_penalty_miss_long\"]]\n",
        "delete.extend(long_quit)\n",
        "\n",
        "# Elimino del df\n",
        "df_clean = df.drop(*delete)\n",
        "\n",
        "# Así me quedó mi df\n",
        "print(\"Columnas después de la limpieza:\")\n",
        "df_clean.printSchema()"
      ],
      "metadata": {
        "colab": {
          "base_uri": "https://localhost:8080/",
          "height": 0
        },
        "id": "JMZqSSVxx47f",
        "outputId": "816b6a60-3a5f-467c-ffe4-72356308651a"
      },
      "execution_count": 9,
      "outputs": [
        {
          "output_type": "stream",
          "name": "stdout",
          "text": [
            "Columnas después de la limpieza:\n",
            "root\n",
            " |-- home_team: string (nullable = true)\n",
            " |-- away_team: string (nullable = true)\n",
            " |-- Attendance: integer (nullable = true)\n",
            " |-- Round: string (nullable = true)\n",
            " |-- Date: string (nullable = true)\n",
            " |-- Referee: string (nullable = true)\n",
            " |-- Host: string (nullable = true)\n",
            " |-- Year: integer (nullable = true)\n",
            " |-- home_goal: string (nullable = true)\n",
            " |-- away_goal: string (nullable = true)\n",
            " |-- home_penalty_goal: string (nullable = true)\n",
            " |-- away_penalty_goal: string (nullable = true)\n",
            " |-- home_red_card: string (nullable = true)\n",
            " |-- away_red_card: string (nullable = true)\n",
            "\n"
          ]
        }
      ]
    },
    {
      "cell_type": "markdown",
      "source": [
        "#### He visto que es buen standard manejar los archivos en parquet por varias ventajas entonces aquí haré lo mismo"
      ],
      "metadata": {
        "id": "GojSpZ-b4DuB"
      }
    },
    {
      "cell_type": "code",
      "source": [
        "#Especifico a dónde se va ir el parquet\n",
        "parquet_file = \"/content/world_cup.parquet\"\n",
        "\n",
        "# Guardo en parquet\n",
        "df_clean.write.parquet(parquet_file)\n",
        "\n",
        "# Leo el archivo y lo muestro\n",
        "df_parquet = spark.read.parquet(parquet_file, encoding=\"UTF-8\")\n",
        "df_parquet.show(5)\n",
        "df_parquet.printSchema()"
      ],
      "metadata": {
        "colab": {
          "base_uri": "https://localhost:8080/",
          "height": 0
        },
        "id": "ckjXK8g04KKq",
        "outputId": "c5d5fbf7-859c-41e9-9335-6aa0892ebfb3"
      },
      "execution_count": 10,
      "outputs": [
        {
          "output_type": "stream",
          "name": "stdout",
          "text": [
            "+---------+---------+----------+-----------------+----------+--------------------+-----+----+--------------------+------------------+--------------------+--------------------+-------------+-------------+\n",
            "|home_team|away_team|Attendance|            Round|      Date|             Referee| Host|Year|           home_goal|         away_goal|   home_penalty_goal|   away_penalty_goal|home_red_card|away_red_card|\n",
            "+---------+---------+----------+-----------------+----------+--------------------+-----+----+--------------------+------------------+--------------------+--------------------+-------------+-------------+\n",
            "|Argentina|   France|     88966|            Final|18/12/2022|    Szymon Marciniak|Qatar|2022|Ángel Di María · ...|Kylian Mbappé · 81|Lionel Messi (P) ...|Kylian Mbappé (P)...|         NULL|         NULL|\n",
            "|  Croatia|  Morocco|     44137|Third-place match|17/12/2022|Abdulrahman Ibrah...|Qatar|2022|Joško Gvardiol · ...|   Achraf Dari · 9|                NULL|                NULL|         NULL|         NULL|\n",
            "|   France|  Morocco|     68294|      Semi-finals|14/12/2022|  César Arturo Ramos|Qatar|2022|Theo Hernández · ...|              NULL|                NULL|                NULL|         NULL|         NULL|\n",
            "|Argentina|  Croatia|     88966|      Semi-finals|13/12/2022|      Daniele Orsato|Qatar|2022|Julián Álvarez · ...|              NULL|Lionel Messi (P) ...|                NULL|         NULL|         NULL|\n",
            "|  Morocco| Portugal|     44198|   Quarter-finals|10/12/2022|       Facundo Tello|Qatar|2022|Youssef En-Nesyri...|              NULL|                NULL|                NULL|         NULL|         NULL|\n",
            "+---------+---------+----------+-----------------+----------+--------------------+-----+----+--------------------+------------------+--------------------+--------------------+-------------+-------------+\n",
            "only showing top 5 rows\n",
            "\n",
            "root\n",
            " |-- home_team: string (nullable = true)\n",
            " |-- away_team: string (nullable = true)\n",
            " |-- Attendance: integer (nullable = true)\n",
            " |-- Round: string (nullable = true)\n",
            " |-- Date: string (nullable = true)\n",
            " |-- Referee: string (nullable = true)\n",
            " |-- Host: string (nullable = true)\n",
            " |-- Year: integer (nullable = true)\n",
            " |-- home_goal: string (nullable = true)\n",
            " |-- away_goal: string (nullable = true)\n",
            " |-- home_penalty_goal: string (nullable = true)\n",
            " |-- away_penalty_goal: string (nullable = true)\n",
            " |-- home_red_card: string (nullable = true)\n",
            " |-- away_red_card: string (nullable = true)\n",
            "\n"
          ]
        }
      ]
    },
    {
      "cell_type": "markdown",
      "source": [
        "## Transform"
      ],
      "metadata": {
        "id": "eR5hFqNx8lvI"
      }
    },
    {
      "cell_type": "markdown",
      "source": [
        "### Dim tables"
      ],
      "metadata": {
        "id": "3BG4Amt0yStP"
      }
    },
    {
      "cell_type": "markdown",
      "source": [
        "#### Dimensión de los equipos extrayendo de las 2 columnas donde se puedan extraer"
      ],
      "metadata": {
        "id": "7WeGHWSX8oK2"
      }
    },
    {
      "cell_type": "code",
      "source": [
        "# Extraemos los equipos de home_team y away_team\n",
        "dim_team = df_parquet.select(\"home_team\").distinct().withColumnRenamed(\"home_team\", \"team\")\n",
        "dim_team2 = df_parquet.select(\"away_team\").distinct().withColumnRenamed(\"away_team\", \"team\")\n",
        "\n",
        "# Unimos y quitamos los que se repiten porque los países pueden l o v\n",
        "dim_teams = dim_team.union(dim_team2).distinct()\n",
        "# Asignamos un ID único\n",
        "dim_teams = dim_teams.withColumn(\"id\", monotonically_increasing_id() + 1)\n",
        "\n",
        "# Así quedaría nuestra dimensión de países\n",
        "dim_teams.show(5)"
      ],
      "metadata": {
        "colab": {
          "base_uri": "https://localhost:8080/",
          "height": 0
        },
        "id": "JcUdnmem-ngZ",
        "outputId": "42670201-a55f-4c0c-c47d-0cc2e2f80772"
      },
      "execution_count": 11,
      "outputs": [
        {
          "output_type": "stream",
          "name": "stdout",
          "text": [
            "+-------------+---+\n",
            "|         team| id|\n",
            "+-------------+---+\n",
            "|Côte d'Ivoire|  1|\n",
            "|       Russia|  2|\n",
            "|     Paraguay|  3|\n",
            "|      Senegal|  4|\n",
            "|       Sweden|  5|\n",
            "+-------------+---+\n",
            "only showing top 5 rows\n",
            "\n"
          ]
        }
      ]
    },
    {
      "cell_type": "markdown",
      "source": [
        "#### Dimensión árbitros donde solo extrameos la columna quitamos los duplicados y asignamos ID"
      ],
      "metadata": {
        "id": "5GfHHfgZCEgu"
      }
    },
    {
      "cell_type": "code",
      "source": [
        "# Extraer los árbitros de la columna 'Referee' y eliminar duplicados\n",
        "dim_referees = df_parquet.select(\"Referee\").distinct()\n",
        "\n",
        "# Asignar un ID\n",
        "dim_referees = dim_referees.withColumn(\"id\", monotonically_increasing_id() + 1)\n",
        "\n",
        "# Así quedaría nuestra dimensión de árbitros\n",
        "dim_referees.show(5)"
      ],
      "metadata": {
        "colab": {
          "base_uri": "https://localhost:8080/",
          "height": 0
        },
        "id": "gdkQ1ww2CIDm",
        "outputId": "6b727075-cdeb-4ae9-fc17-a59749e86f44"
      },
      "execution_count": 12,
      "outputs": [
        {
          "output_type": "stream",
          "name": "stdout",
          "text": [
            "+--------------------+---+\n",
            "|             Referee| id|\n",
            "+--------------------+---+\n",
            "|    Mustapha Ghorbal|  1|\n",
            "|  Roberto Goicoechea|  2|\n",
            "|      Leslie Mottram|  3|\n",
            "|       Anibal Tejada|  4|\n",
            "|Arturo Brizio Carter|  5|\n",
            "+--------------------+---+\n",
            "only showing top 5 rows\n",
            "\n"
          ]
        }
      ]
    },
    {
      "cell_type": "markdown",
      "source": [
        "#### Hacemos la dimensión de partidos donde extraemos los datos relevantes y establecemos la fecha a dim date"
      ],
      "metadata": {
        "id": "N_L1sHn-JfMF"
      }
    },
    {
      "cell_type": "code",
      "source": [
        "# Pasaré lo de las fechas a un formato de dim date\n",
        "dim_matches = df_parquet.withColumn(\"Date\",\n",
        "    concat(\n",
        "        substring(col(\"Date\"), 7, 4),  # Año\n",
        "        substring(col(\"Date\"), 4, 2),  # Mes\n",
        "        substring(col(\"Date\"), 1, 2)   # Día\n",
        "    )\n",
        ")\n",
        "\n",
        "# Seleccionar las columnas para hacer mi dimesioón de los partidos\n",
        "dim_matches = dim_matches.select(\n",
        "    col(\"Attendance\"),\n",
        "    col(\"Round\"),\n",
        "    col(\"Host\"),\n",
        "    col(\"Date\")\n",
        ")\n",
        "\n",
        "# Asigno el ID\n",
        "dim_matches = dim_matches.withColumn(\"id\", monotonically_increasing_id() + 1)\n",
        "\n",
        "# Así quedaría nuestra dimensión de partidos\n",
        "dim_matches.show(5)\n",
        "\n"
      ],
      "metadata": {
        "id": "MB_SWKnJ52V5",
        "colab": {
          "base_uri": "https://localhost:8080/",
          "height": 0
        },
        "outputId": "a43bf960-78c6-4673-98a9-15b7d2504b9f"
      },
      "execution_count": 13,
      "outputs": [
        {
          "output_type": "stream",
          "name": "stdout",
          "text": [
            "+----------+-----------------+-----+--------+---+\n",
            "|Attendance|            Round| Host|    Date| id|\n",
            "+----------+-----------------+-----+--------+---+\n",
            "|     88966|            Final|Qatar|20221218|  1|\n",
            "|     44137|Third-place match|Qatar|20221217|  2|\n",
            "|     68294|      Semi-finals|Qatar|20221214|  3|\n",
            "|     88966|      Semi-finals|Qatar|20221213|  4|\n",
            "|     44198|   Quarter-finals|Qatar|20221210|  5|\n",
            "+----------+-----------------+-----+--------+---+\n",
            "only showing top 5 rows\n",
            "\n"
          ]
        }
      ]
    },
    {
      "cell_type": "markdown",
      "source": [
        "#### En la dimensión de jugadores sacamos las columnas donde podamos extraer jugadores de los eventos a estudiar y los tratamos a manera de poder extraerlos"
      ],
      "metadata": {
        "id": "3pIAbR0i514Q"
      }
    },
    {
      "cell_type": "code",
      "source": [
        "# Selecciono las columnas donde tienen jugadores\n",
        "dim_players = (\n",
        "    df_parquet.selectExpr(\"home_goal as player\", \"home_team as team\")\n",
        "    .union(df_parquet.selectExpr(\"away_goal as player\", \"away_team as team\"))\n",
        "    .union(df_parquet.selectExpr(\"home_red_card as player\", \"home_team as team\"))\n",
        "    .union(df_parquet.selectExpr(\"away_red_card as player\", \"away_team as team\"))\n",
        "    .union(df_parquet.selectExpr(\"home_penalty_goal as player\", \"home_team as team\"))\n",
        "    .union(df_parquet.selectExpr(\"away_penalty_goal as player\", \"away_team as team\"))\n",
        ")\n",
        "\n",
        "# Empecé a quitar caracteres para poder extraer los jugadores separandolos por,\n",
        "dim_players = dim_players.withColumn(\"player\", regexp_replace(col(\"player\"), r\"\\(P\\)\", \"\"))\n",
        "dim_players = dim_players.withColumn(\"player\", regexp_replace(col(\"player\"), \"\\s+\", \"\"))\n",
        "dim_players = dim_players.withColumn(\"player\", regexp_replace(col(\"player\"), \"·\", \"\"))\n",
        "dim_players = dim_players.withColumn(\"player\", regexp_replace(col(\"player\"), \"[0-9]\", \"\"))\n",
        "dim_players = dim_players.withColumn(\"player\", regexp_replace(col(\"player\"), \"\\|\", \",\"))\n",
        "dim_players = dim_players.withColumn(\"player\", regexp_replace(col(\"player\"), r'(?<=[a-z])(?=[A-Z])', ' '))\n",
        "dim_players = dim_players.withColumn(\"player\", regexp_replace(col(\"player\"), \"\\+\", \"\"))\n",
        "dim_players = dim_players.withColumn(\"player\", trim(col(\"player\")))\n",
        "\n",
        "# Searo los jugaodres\n",
        "dim_players = dim_players.withColumn(\"player\", explode(split(col(\"player\"), \",\")))\n",
        "dim_players = dim_players.withColumn(\"player\", trim(col(\"player\")))\n",
        "\n",
        "# Elimino duplicado\n",
        "dim_players = dim_players.dropDuplicates([\"player\"])\n",
        "\n",
        "# Asigno el ID\n",
        "dim_players = dim_players.withColumn(\"id1\", monotonically_increasing_id() + 1)\n",
        "\n",
        "# Uno con dim team para extraer el id y quito la columna team porque ya no la ocupo\n",
        "dim_players = dim_players.join(dim_teams, dim_players.team == dim_teams.team, \"inner\")\n",
        "dim_players = dim_players.drop('team')\n",
        "\n",
        "# Renombro columnas\n",
        "dim_players = dim_players.withColumnRenamed('id','team_id')\n",
        "dim_players = dim_players.withColumnRenamed('id1','id')\n",
        "\n",
        "# Muestra los primeros 5 registros\n",
        "dim_players.show(5)"
      ],
      "metadata": {
        "colab": {
          "base_uri": "https://localhost:8080/",
          "height": 0
        },
        "id": "ZN3nPW1Bpfyu",
        "outputId": "e4ca557e-4245-4136-91e9-7e381c4964fe"
      },
      "execution_count": 14,
      "outputs": [
        {
          "output_type": "stream",
          "name": "stdout",
          "text": [
            "+--------------------+---+-------+\n",
            "|              player| id|team_id|\n",
            "+--------------------+---+-------+\n",
            "|    Abdeljalil Hadda|  1|     40|\n",
            "|     Abdelkrim Merry|  2|     40|\n",
            "| Abdelmoumene Djabou|  3|     13|\n",
            "|   Abderrazak Khairi|  4|     40|\n",
            "|Abdullah Al-Buloushi|  5|     84|\n",
            "+--------------------+---+-------+\n",
            "only showing top 5 rows\n",
            "\n"
          ]
        }
      ]
    },
    {
      "cell_type": "markdown",
      "source": [
        "### Fact tables"
      ],
      "metadata": {
        "id": "FZBIJai1yM5A"
      }
    },
    {
      "cell_type": "markdown",
      "source": [
        "#### Hechos de goles"
      ],
      "metadata": {
        "id": "kN-kWW-zyY_i"
      }
    },
    {
      "cell_type": "markdown",
      "source": [
        "##### Primero empiezo por los goles del local con la misma lógica de jugadores"
      ],
      "metadata": {
        "id": "oGY4OgiN5bI8"
      }
    },
    {
      "cell_type": "code",
      "source": [
        "# Selecciono los goles local\n",
        "f_goles1 = df_parquet.select(\n",
        "    df_parquet['home_goal'].alias('player'),\n",
        ")\n",
        "\n",
        "# Asignar un ID que es el del partido\n",
        "f_goles1 = f_goles1.withColumn(\"match_id\", monotonically_increasing_id() + 1)\n",
        "\n",
        "# Limpiamos player para extraer fácil el nombre\n",
        "f_goles1 = f_goles1.withColumn(\"player\", regexp_replace(col(\"player\"), r\"\\(P\\)\", \"\"))\n",
        "f_goles1 = f_goles1.withColumn(\"player\", regexp_replace(col(\"player\"), \"\\s+\", \"\"))\n",
        "f_goles1 = f_goles1.withColumn(\"player\", regexp_replace(col(\"player\"), \"·\", \"\"))\n",
        "f_goles1 = f_goles1.withColumn(\"player\", regexp_replace(col(\"player\"), \"\\|\", \",\"))\n",
        "f_goles1 = f_goles1.withColumn(\"player\", regexp_replace(col(\"player\"), r'(?<=[a-z])(?=[A-Z])', ' '))\n",
        "f_goles1 = f_goles1.withColumn(\"player\", regexp_replace(col(\"player\"), r\"\\+.+\", \"\"))\n",
        "f_goles1 = f_goles1.withColumn(\"player\", trim(col(\"player\")))\n",
        "\n",
        "# Hacemos un registro para cada jugador\n",
        "f_goles1 = f_goles1.withColumn(\"player\", explode(split(col(\"player\"), \",\")))\n",
        "f_goles1 = f_goles1.withColumn(\"player\", trim(col(\"player\")))\n",
        "\n",
        "# Quitamos el minuto del jugador y lo pasamos a la columna minute\n",
        "f_goles1 = f_goles1.withColumn(\"minute\", regexp_extract(col(\"player\"), r'(\\d+)$', 1))\n",
        "f_goles1 = f_goles1.withColumn(\"player\", regexp_extract(col(\"player\"), r'^(.*?)\\d+', 1))\n",
        "\n",
        "# Uno con dim team para extraer el id y quito la columna team porque ya no la ocupo\n",
        "f_goles1 = f_goles1.join(dim_players, f_goles1.player == dim_players.player, \"inner\")\n",
        "f_goles1 = f_goles1.drop('team','player','team_id')\n",
        "f_goles1 = f_goles1.withColumnRenamed('id','player_id')\n",
        "\n",
        "# Así quedaría\n",
        "f_goles1.show(5)"
      ],
      "metadata": {
        "id": "vFaUzI5uzaRw",
        "colab": {
          "base_uri": "https://localhost:8080/",
          "height": 0
        },
        "outputId": "f1830a38-620b-4b13-da15-345226715f71"
      },
      "execution_count": 15,
      "outputs": [
        {
          "output_type": "stream",
          "name": "stdout",
          "text": [
            "+--------+------+---------+\n",
            "|match_id|minute|player_id|\n",
            "+--------+------+---------+\n",
            "|     448|    59|        1|\n",
            "|     962|     1|        9|\n",
            "|     911|    79|       11|\n",
            "|     911|    30|       11|\n",
            "|     901|     4|       11|\n",
            "+--------+------+---------+\n",
            "only showing top 5 rows\n",
            "\n"
          ]
        }
      ]
    },
    {
      "cell_type": "markdown",
      "source": [
        "##### Ahora goles de visita"
      ],
      "metadata": {
        "id": "Lo2QQIqu5iwj"
      }
    },
    {
      "cell_type": "code",
      "source": [
        "# Selecciono los goles visitantes\n",
        "f_goles2 = df_parquet.select(\n",
        "    df_parquet['away_goal'].alias('player'),\n",
        ")\n",
        "\n",
        "# Asignar un ID de partido\n",
        "f_goles2 = f_goles2.withColumn(\"match_id\", monotonically_increasing_id() + 1)\n",
        "\n",
        "# Limpiamos player para extraer fácil el nombre\n",
        "f_goles2 = f_goles2.withColumn(\"player\", regexp_replace(col(\"player\"), r\"\\(P\\)\", \"\"))\n",
        "f_goles2 = f_goles2.withColumn(\"player\", regexp_replace(col(\"player\"), \"\\s+\", \"\"))\n",
        "f_goles2 = f_goles2.withColumn(\"player\", regexp_replace(col(\"player\"), \"·\", \"\"))\n",
        "f_goles2 = f_goles2.withColumn(\"player\", regexp_replace(col(\"player\"), \"\\|\", \",\"))\n",
        "f_goles2 = f_goles2.withColumn(\"player\", regexp_replace(col(\"player\"), r'(?<=[a-z])(?=[A-Z])', ' '))\n",
        "f_goles2 = f_goles2.withColumn(\"player\", regexp_replace(col(\"player\"), r\"\\+.+\", \"\"))\n",
        "f_goles2 = f_goles2.withColumn(\"player\", trim(col(\"player\")))\n",
        "\n",
        "# Hacemos un registro para cada jugador\n",
        "f_goles2 = f_goles2.withColumn(\"player\", explode(split(col(\"player\"), \",\")))\n",
        "f_goles2 = f_goles2.withColumn(\"player\", trim(col(\"player\")))\n",
        "\n",
        "# Quitamos el minuto del jugador y lo pasamos a la columna minute\n",
        "f_goles2 = f_goles2.withColumn(\"minute\", regexp_extract(col(\"player\"), r'(\\d+)$', 1))\n",
        "f_goles2 = f_goles2.withColumn(\"player\", regexp_extract(col(\"player\"), r'^(.*?)\\d+', 1))\n",
        "\n",
        "# Uno con dim team para extraer el id y quito la columna team porque ya no la ocupo\n",
        "f_goles2 = f_goles2.join(dim_players, f_goles2.player == dim_players.player, \"inner\")\n",
        "f_goles2 = f_goles2.drop('team','player','team_id')\n",
        "f_goles2 = f_goles2.withColumnRenamed('id','player_id')\n",
        "\n",
        "# Así quedaría\n",
        "f_goles2.show(5)"
      ],
      "metadata": {
        "colab": {
          "base_uri": "https://localhost:8080/",
          "height": 0
        },
        "id": "UOu3Rien5lJ6",
        "outputId": "70774599-adcb-4911-8add-cab0b4381e18"
      },
      "execution_count": 16,
      "outputs": [
        {
          "output_type": "stream",
          "name": "stdout",
          "text": [
            "+--------+------+---------+\n",
            "|match_id|minute|player_id|\n",
            "+--------+------+---------+\n",
            "|     416|    47|        1|\n",
            "|     576|    62|        2|\n",
            "|     162|    38|        3|\n",
            "|     140|   120|        3|\n",
            "|     576|    27|        4|\n",
            "+--------+------+---------+\n",
            "only showing top 5 rows\n",
            "\n"
          ]
        }
      ]
    },
    {
      "cell_type": "markdown",
      "source": [
        "##### Ahora goles de penal local"
      ],
      "metadata": {
        "id": "FAYEMJIQ58_B"
      }
    },
    {
      "cell_type": "code",
      "source": [
        "# Selecciono los penales\n",
        "f_goles3 = df_parquet.select(\n",
        "    df_parquet['home_penalty_goal'].alias('player'),\n",
        ")\n",
        "\n",
        "# Asignar un ID del partido\n",
        "f_goles3 = f_goles3.withColumn(\"match_id\", monotonically_increasing_id() + 1)\n",
        "\n",
        "# Limpiamos player para extraer fácil el nombre\n",
        "f_goles3 = f_goles3.withColumn(\"player\", regexp_replace(col(\"player\"), r\"\\(P\\)\", \"\"))\n",
        "f_goles3 = f_goles3.withColumn(\"player\", regexp_replace(col(\"player\"), \"\\s+\", \"\"))\n",
        "f_goles3 = f_goles3.withColumn(\"player\", regexp_replace(col(\"player\"), \"·\", \"\"))\n",
        "f_goles3 = f_goles3.withColumn(\"player\", regexp_replace(col(\"player\"), \"\\|\", \",\"))\n",
        "f_goles3 = f_goles3.withColumn(\"player\", regexp_replace(col(\"player\"), r'(?<=[a-z])(?=[A-Z])', ' '))\n",
        "f_goles3 = f_goles3.withColumn(\"player\", regexp_replace(col(\"player\"), r\"\\+.+\", \"\"))\n",
        "f_goles3 = f_goles3.withColumn(\"player\", trim(col(\"player\")))\n",
        "\n",
        "# Hacemos un registro para cada jugador\n",
        "f_goles3 = f_goles3.withColumn(\"player\", explode(split(col(\"player\"), \",\")))\n",
        "f_goles3 = f_goles3.withColumn(\"player\", trim(col(\"player\")))\n",
        "\n",
        "# Quitamos el minuto del jugador y lo pasamos a la columna minute\n",
        "f_goles3 = f_goles3.withColumn(\"minute\", regexp_extract(col(\"player\"), r'(\\d+)$', 1))\n",
        "f_goles3 = f_goles3.withColumn(\"player\", regexp_extract(col(\"player\"), r'^(.*?)\\d+', 1))\n",
        "\n",
        "# Uno con dim team para extraer el id y quito la columna team porque ya no la ocupo\n",
        "f_goles3 = f_goles3.join(dim_players, f_goles3.player == dim_players.player, \"inner\")\n",
        "f_goles3 = f_goles3.drop('team','player','team_id')\n",
        "f_goles3 = f_goles3.withColumnRenamed('id','player_id')\n",
        "\n",
        "# Así quedaría\n",
        "f_goles3.show(5)"
      ],
      "metadata": {
        "colab": {
          "base_uri": "https://localhost:8080/",
          "height": 0
        },
        "id": "9WfLPrRm6lGl",
        "outputId": "f57f2641-da37-4fa2-a7b2-0756f27d940c"
      },
      "execution_count": 17,
      "outputs": [
        {
          "output_type": "stream",
          "name": "stdout",
          "text": [
            "+--------+------+---------+\n",
            "|match_id|minute|player_id|\n",
            "+--------+------+---------+\n",
            "|     800|    84|       14|\n",
            "|     458|    18|       34|\n",
            "|     590|     6|       52|\n",
            "|     744|    50|       69|\n",
            "|     501|    85|       82|\n",
            "+--------+------+---------+\n",
            "only showing top 5 rows\n",
            "\n"
          ]
        }
      ]
    },
    {
      "cell_type": "markdown",
      "source": [
        "##### Por último hacemos los penales de visita"
      ],
      "metadata": {
        "id": "uEHbuLhg7UOa"
      }
    },
    {
      "cell_type": "code",
      "source": [
        "# Selecciono los goles de penal de visita\n",
        "f_goles4 = df_parquet.select(\n",
        "    df_parquet['away_penalty_goal'].alias('player'),\n",
        ")\n",
        "\n",
        "# Asignar un ID único a cada registro\n",
        "f_goles4 = f_goles4.withColumn(\"match_id\", monotonically_increasing_id() + 1)\n",
        "\n",
        "# Limpiamos player para extraer fácil el nombre\n",
        "f_goles4 = f_goles4.withColumn(\"player\", regexp_replace(col(\"player\"), r\"\\(P\\)\", \"\"))\n",
        "f_goles4 = f_goles4.withColumn(\"player\", regexp_replace(col(\"player\"), \"\\s+\", \"\"))\n",
        "f_goles4 = f_goles4.withColumn(\"player\", regexp_replace(col(\"player\"), \"·\", \"\"))\n",
        "f_goles4 = f_goles4.withColumn(\"player\", regexp_replace(col(\"player\"), \"\\|\", \",\"))\n",
        "f_goles4 = f_goles4.withColumn(\"player\", regexp_replace(col(\"player\"), r'(?<=[a-z])(?=[A-Z])', ' '))\n",
        "f_goles4 = f_goles4.withColumn(\"player\", regexp_replace(col(\"player\"), r\"\\+.+\", \"\"))\n",
        "f_goles4 = f_goles4.withColumn(\"player\", trim(col(\"player\")))\n",
        "\n",
        "# Hacemos un registro para cada jugador\n",
        "f_goles4 = f_goles4.withColumn(\"player\", explode(split(col(\"player\"), \",\")))\n",
        "f_goles4 = f_goles4.withColumn(\"player\", trim(col(\"player\")))\n",
        "\n",
        "# Quitamos el minuto del jugador y lo pasamos a la columna minute\n",
        "f_goles4 = f_goles4.withColumn(\"minute\", regexp_extract(col(\"player\"), r'(\\d+)$', 1))\n",
        "f_goles4 = f_goles4.withColumn(\"player\", regexp_extract(col(\"player\"), r'^(.*?)\\d+', 1))\n",
        "\n",
        "# Uno con dim team para extraer el id y quito la columna team porque ya no la ocupo\n",
        "f_goles4 = f_goles4.join(dim_players, f_goles4.player == dim_players.player, \"inner\")\n",
        "f_goles4 = f_goles4.drop('team','player','team_id')\n",
        "f_goles4 = f_goles4.withColumnRenamed('id','player_id')\n",
        "\n",
        "# Así quedaría\n",
        "f_goles4.show(5)"
      ],
      "metadata": {
        "colab": {
          "base_uri": "https://localhost:8080/",
          "height": 0
        },
        "id": "ING0DzlU7879",
        "outputId": "5978a34b-a22a-4f27-8639-fcf2f279ecb7"
      },
      "execution_count": 18,
      "outputs": [
        {
          "output_type": "stream",
          "name": "stdout",
          "text": [
            "+--------+------+---------+\n",
            "|match_id|minute|player_id|\n",
            "+--------+------+---------+\n",
            "|     394|     9|       30|\n",
            "|     423|    55|       34|\n",
            "|     562|    68|       80|\n",
            "|      86|    62|       84|\n",
            "|     413|    90|       85|\n",
            "+--------+------+---------+\n",
            "only showing top 5 rows\n",
            "\n"
          ]
        }
      ]
    },
    {
      "cell_type": "markdown",
      "source": [
        "##### Unimos todos los goles que sacamos por evento y hacemos su tabla de hechos asignando su ID"
      ],
      "metadata": {
        "id": "xy4X7cQC_YCW"
      }
    },
    {
      "cell_type": "code",
      "source": [
        "# Unimos\n",
        "f_goals = f_goles4.union(f_goles3).union(f_goles2).union(f_goles1)\n",
        "\n",
        "#Asignamos ID\n",
        "f_goals = f_goals.withColumn(\"id\", monotonically_increasing_id() + 1)\n",
        "\n",
        "# Mostrar la tabla de hechos\n",
        "f_goals.show(5)"
      ],
      "metadata": {
        "colab": {
          "base_uri": "https://localhost:8080/",
          "height": 0
        },
        "id": "950_NvNv_cbQ",
        "outputId": "a0b1a288-c804-4ac8-e525-d5f5be207f08"
      },
      "execution_count": 19,
      "outputs": [
        {
          "output_type": "stream",
          "name": "stdout",
          "text": [
            "+--------+------+---------+---+\n",
            "|match_id|minute|player_id| id|\n",
            "+--------+------+---------+---+\n",
            "|     394|     9|       30|  1|\n",
            "|     423|    55|       34|  2|\n",
            "|     562|    68|       80|  3|\n",
            "|      86|    62|       84|  4|\n",
            "|     413|    90|       85|  5|\n",
            "+--------+------+---------+---+\n",
            "only showing top 5 rows\n",
            "\n"
          ]
        }
      ]
    },
    {
      "cell_type": "markdown",
      "source": [
        "#### Hecho de tarjetas rojas"
      ],
      "metadata": {
        "id": "c66EuT9YEOoX"
      }
    },
    {
      "cell_type": "markdown",
      "source": [
        "##### Primero las tarjetas rojas locales"
      ],
      "metadata": {
        "id": "WKtbFf5dGVXi"
      }
    },
    {
      "cell_type": "code",
      "source": [
        "# Selecciono las rojas locales\n",
        "f_redcard1 = df_parquet.select(\n",
        "    df_parquet['home_red_card'].alias('player'),\n",
        "    df_parquet['referee'].alias('referee'),\n",
        ")\n",
        "\n",
        "# Asignar un ID que es el del partido\n",
        "f_redcard1 = f_redcard1.withColumn(\"match_id\", monotonically_increasing_id() + 1)\n",
        "\n",
        "# Limpiamos player para extraer fácil el nombre\n",
        "f_redcard1 = f_redcard1.withColumn(\"player\", regexp_replace(col(\"player\"), r\"\\(P\\)\", \"\"))\n",
        "f_redcard1 = f_redcard1.withColumn(\"player\", regexp_replace(col(\"player\"), \"\\s+\", \"\"))\n",
        "f_redcard1 = f_redcard1.withColumn(\"player\", regexp_replace(col(\"player\"), \"·\", \"\"))\n",
        "f_redcard1 = f_redcard1.withColumn(\"player\", regexp_replace(col(\"player\"), \"\\|\", \",\"))\n",
        "f_redcard1 = f_redcard1.withColumn(\"player\", regexp_replace(col(\"player\"), r'(?<=[a-z])(?=[A-Z])', ' '))\n",
        "f_redcard1 = f_redcard1.withColumn(\"player\", regexp_replace(col(\"player\"), r\"\\+.+\", \"\"))\n",
        "f_redcard1 = f_redcard1.withColumn(\"player\", trim(col(\"player\")))\n",
        "\n",
        "# Hacemos un registro para cada jugador\n",
        "f_redcard1 = f_redcard1.withColumn(\"player\", explode(split(col(\"player\"), \",\")))\n",
        "f_redcard1 = f_redcard1.withColumn(\"player\", trim(col(\"player\")))\n",
        "\n",
        "\n",
        "\n",
        "# Quitamos el minuto del jugador y lo pasamos a la columna minute\n",
        "f_redcard1 = f_redcard1.withColumn(\"minute\", regexp_extract(col(\"player\"), r'(\\d+)$', 1))\n",
        "f_redcard1 = f_redcard1.withColumn(\"player\", regexp_extract(col(\"player\"), r'^(.*?)\\d+', 1))\n",
        "f_redcard1.show(2445)\n",
        "\n",
        "# Uno con dim team para extraer el id y quito la columna team porque ya no la ocupo\n",
        "f_redcard1 = f_redcard1.join(dim_players, f_redcard1.player == dim_players.player, \"inner\")\n",
        "f_redcard1 = f_redcard1.drop('team','player','team_id')\n",
        "f_redcard1 = f_redcard1.withColumnRenamed('id','player_id')\n",
        "\n",
        "# Uno con dim team para extraer el id y quito la columna team porque ya no la ocupo\n",
        "f_redcard1 = f_redcard1.join(dim_referees, f_redcard1.referee == dim_referees.Referee, \"left_outer\")\n",
        "f_redcard1 = f_redcard1.drop('referee')\n",
        "f_redcard1 = f_redcard1.withColumnRenamed('id','referee_id')\n",
        "\n",
        "\n",
        "# Nos quedaría así\n",
        "f_redcard1.show(2225)"
      ],
      "metadata": {
        "colab": {
          "base_uri": "https://localhost:8080/",
          "height": 0
        },
        "id": "BYcv_LeNFzso",
        "outputId": "8d24f3f9-638f-43d3-ab05-33a135baa673"
      },
      "execution_count": 20,
      "outputs": [
        {
          "output_type": "stream",
          "name": "stdout",
          "text": [
            "+--------------------+--------------------+--------+------+\n",
            "|              player|             referee|match_id|minute|\n",
            "+--------------------+--------------------+--------+------+\n",
            "|         Paulo Bento|      Anthony Taylor|      34|    90|\n",
            "|     Wayne Hennessey|       Mario Escobar|      45|    86|\n",
            "|      Carlos Sánchez|       Damir Skomina|     112|     3|\n",
            "|    Antonio Valencia|     Noumandiez Doué|     152|    50|\n",
            "|   Claudio Marchisio|Marco Antonio Rod...|     154|    59|\n",
            "|          Ante Rebić|     Ravshan Irmatov|     159|    89|\n",
            "|           Alex Song|       Pedro Proença|     175|    40|\n",
            "|        Maxi Pereira|         Felix Brych|     186|    90|\n",
            "|         Luis Suárez|                NULL|     200|   120|\n",
            "|      Yoann Gourcuff|                NULL|     222|    25|\n",
            "|     Nicolás Lodeiro|                NULL|     256|    81|\n",
            "|        Wayne Rooney|                NULL|     261|    62|\n",
            "|     Marco Materazzi|                NULL|     267|    50|\n",
            "|       TomášUjfaluši|                NULL|     296|    65|\n",
            "|    Daniele De Rossi|                NULL|     297|    28|\n",
            "|      Rafael Márquez|                NULL|     331|    88|\n",
            "|          João Pinto|                NULL|     339|    27|\n",
            "|           NastjaČeh|                NULL|     348|    81|\n",
            "|       Thierry Henry|                NULL|     367|    25|\n",
            "|       BorisŽivković|                NULL|     374|    59|\n",
            "|       Laurent Blanc|                NULL|     387|    76|\n",
            "|     Christian Wörns|                NULL|     390|    40|\n",
            "|        Craig Burley|                NULL|     416|    53|\n",
            "|       Gert Verheyen|                NULL|     423|    54|\n",
            "|        Alfred Phiri|                NULL|     427|    68|\n",
            "|     Zinédine Zidane|                NULL|     428|    71|\n",
            "|          Ha Seok-ju|                NULL|     440|    30|\n",
            "|    Patrick Kluivert|                NULL|     441|    82|\n",
            "|         Jonas Thern|Jose Joaquin Torr...|     452|    63|\n",
            "|     Leonardo Araújo|        Joel Quiniou|     460|    43|\n",
            "|   Gianluca Pagliuca|        Hellmut Krug|     484|    21|\n",
            "|         Ion Vlădoiu|         Neji Jouini|     486|    73|\n",
            "|   MiguelÁngel Nadal|     Peter Mikkelsen|     500|    25|\n",
            "|   RefikŠabanadžović| Kurt Roethlisberger|     507|    31|\n",
            "|       Ricardo Gomes|        Joel Quiniou|     513|    85|\n",
            "|         Rudi Völler|        Juan Loustau|     514|    22|\n",
            "|       Yoon Deok-yeo|       Tullio Lanese|     518|    70|\n",
            "|        Peter Artner|     Jamal Al Sharif|     525|    33|\n",
            "|        Eric Wynalda| Kurt Roethlisberger|     546|    52|\n",
            "|     Thomas Berthold|  Jesus Diaz Palacio|     560|    65|\n",
            "|       Frank Arnesen|       Alexis Ponnet|     570|    88|\n",
            "|         Ray Wilkins|Gabriel Gonzalez Roa|     589|    42|\n",
            "|      Diego Maradona| Mario Rubio Vazquez|     613|    85|\n",
            "|         Mal Donaghy|        Hector Ortiz|     623|    62|\n",
            "|   Gilberto Yearwood|       Gaston Castro|     626|    89|\n",
            "|        Ray Richards|        Jafar Namdar|     714|    83|\n",
            "|Julio Montero Cas...|      Karoly Palotai|     725|    69|\n",
            "|           Garrincha|Arturo Yamasaki M...|     799|    83|\n",
            "|     Vladica Popović|         Karol Galba|     820|    71|\n",
            "|       József Bozsik|        Arthur Ellis|     869|    71|\n",
            "|        ZezéProcópio|     Pal Von Hertzka|     918|    14|\n",
            "|      Arthur Machado|     Pal Von Hertzka|     918|    89|\n",
            "+--------------------+--------------------+--------+------+\n",
            "\n",
            "+--------+------+---------+----------+\n",
            "|match_id|minute|player_id|referee_id|\n",
            "+--------+------+---------+----------+\n",
            "|     175|    40|       54|        32|\n",
            "|     427|    68|       63|      NULL|\n",
            "|     159|    89|      109|        64|\n",
            "|     152|    50|      118|        80|\n",
            "|     918|    89|      132|        36|\n",
            "|     374|    59|      171|      NULL|\n",
            "|     112|     3|      207|       155|\n",
            "|     390|    40|      225|      NULL|\n",
            "|     154|    59|      229|        20|\n",
            "|     416|    53|      238|      NULL|\n",
            "|     297|    28|      261|      NULL|\n",
            "|     613|    85|      293|       262|\n",
            "|     546|    52|      351|       190|\n",
            "|     570|    88|      409|       320|\n",
            "|     799|    83|      431|       148|\n",
            "|     423|    54|      453|      NULL|\n",
            "|     484|    21|      459|       159|\n",
            "|     626|    89|      463|        63|\n",
            "|     440|    30|      500|      NULL|\n",
            "|     486|    73|      573|       260|\n",
            "|     452|    63|      664|       147|\n",
            "|     339|    27|      706|      NULL|\n",
            "|     725|    69|      730|       131|\n",
            "|     869|    71|      740|       296|\n",
            "|     387|    76|      804|      NULL|\n",
            "|     460|    43|      814|        21|\n",
            "|     200|   120|      850|      NULL|\n",
            "|     623|    62|      866|       285|\n",
            "|     267|    50|      888|      NULL|\n",
            "|     186|    90|      930|       173|\n",
            "|     500|    25|      949|        91|\n",
            "|     348|    81|      995|      NULL|\n",
            "|     256|    81|     1007|      NULL|\n",
            "|     441|    82|     1054|      NULL|\n",
            "|      34|    90|     1065|       136|\n",
            "|     525|    33|     1080|       248|\n",
            "|     331|    88|     1117|      NULL|\n",
            "|     714|    83|     1138|       128|\n",
            "|     589|    42|     1139|        11|\n",
            "|     507|    31|     1145|       190|\n",
            "|     513|    85|     1158|        21|\n",
            "|     514|    22|     1219|        81|\n",
            "|     367|    25|     1328|      NULL|\n",
            "|     560|    65|     1329|        53|\n",
            "|     296|    65|     1352|      NULL|\n",
            "|     820|    71|     1384|       198|\n",
            "|      45|    86|     1398|       238|\n",
            "|     261|    62|     1399|      NULL|\n",
            "|     222|    25|     1432|      NULL|\n",
            "|     518|    70|     1434|       243|\n",
            "|     918|    14|     1448|        36|\n",
            "|     428|    71|     1451|      NULL|\n",
            "+--------+------+---------+----------+\n",
            "\n"
          ]
        }
      ]
    },
    {
      "cell_type": "markdown",
      "source": [
        "##### Ahora las rojas visitantes"
      ],
      "metadata": {
        "id": "wWJ7_ZV8JPBu"
      }
    },
    {
      "cell_type": "code",
      "source": [
        "# Selecciono los rojas visitantes\n",
        "f_redcard2 = df_parquet.select(\n",
        "    df_parquet['away_red_card'].alias('player'),\n",
        "    df_parquet['referee'].alias('referee'),\n",
        ")\n",
        "\n",
        "# Asignar un ID que es el del partido\n",
        "f_redcard2 = f_redcard2.withColumn(\"match_id\", monotonically_increasing_id() + 1)\n",
        "\n",
        "# Limpiamos player para extraer fácil el nombre\n",
        "f_redcard2 = f_redcard2.withColumn(\"player\", regexp_replace(col(\"player\"), r\"\\(P\\)\", \"\"))\n",
        "f_redcard2 = f_redcard2.withColumn(\"player\", regexp_replace(col(\"player\"), \"\\s+\", \"\"))\n",
        "f_redcard2 = f_redcard2.withColumn(\"player\", regexp_replace(col(\"player\"), \"·\", \"\"))\n",
        "f_redcard2 = f_redcard2.withColumn(\"player\", regexp_replace(col(\"player\"), \"\\|\", \",\"))\n",
        "f_redcard2 = f_redcard2.withColumn(\"player\", regexp_replace(col(\"player\"), r'(?<=[a-z])(?=[A-Z])', ' '))\n",
        "f_redcard2 = f_redcard2.withColumn(\"player\", regexp_replace(col(\"player\"), r\"\\+.+\", \"\"))\n",
        "f_redcard2 = f_redcard2.withColumn(\"player\", trim(col(\"player\")))\n",
        "\n",
        "# Hacemos un registro para cada jugador\n",
        "f_redcard2 = f_redcard2.withColumn(\"player\", explode(split(col(\"player\"), \",\")))\n",
        "f_redcard2 = f_redcard2.withColumn(\"player\", trim(col(\"player\")))\n",
        "\n",
        "# Quitamos el minuto del jugador y lo pasamos a la columna minute\n",
        "f_redcard2 = f_redcard2.withColumn(\"minute\", regexp_extract(col(\"player\"), r'(\\d+)$', 1))\n",
        "f_redcard2 = f_redcard2.withColumn(\"player\", regexp_extract(col(\"player\"), r'^(.*?)\\d+', 1))\n",
        "\n",
        "# Uno con dim team para extraer el id y quito la columna team porque ya no la ocupo\n",
        "f_redcard2 = f_redcard2.join(dim_players, f_redcard2.player == dim_players.player, \"inner\")\n",
        "f_redcard2 = f_redcard2.drop('team','player','team_id')\n",
        "f_redcard2 = f_redcard2.withColumnRenamed('id','player_id')\n",
        "\n",
        "# Uno con dim team para extraer el id y quito la columna team porque ya no la ocupo\n",
        "f_redcard2 = f_redcard2.join(dim_referees, f_redcard2.referee == dim_referees.Referee, \"left_outer\")\n",
        "f_redcard2 = f_redcard2.drop('referee')\n",
        "f_redcard2 = f_redcard2.withColumnRenamed('id','referee_id')\n",
        "\n",
        "\n",
        "# Lo imprimimos\n",
        "f_redcard2.show(2225)"
      ],
      "metadata": {
        "colab": {
          "base_uri": "https://localhost:8080/",
          "height": 0
        },
        "id": "8Z7t1AcsJOqn",
        "outputId": "df597c18-24c8-42dc-ec7f-e8780f3b1898"
      },
      "execution_count": 21,
      "outputs": [
        {
          "output_type": "stream",
          "name": "stdout",
          "text": [
            "+--------+------+---------+----------+\n",
            "|match_id|minute|player_id|referee_id|\n",
            "+--------+------+---------+----------+\n",
            "|     617|    84|       75|        68|\n",
            "|     693|    88|       97|       130|\n",
            "|     552|    61|      101|       166|\n",
            "|     770|    35|      117|         9|\n",
            "|     552|    88|      149|       166|\n",
            "|     729|    67|      203|       179|\n",
            "|     394|    47|      267|      NULL|\n",
            "|     664|    88|      286|        99|\n",
            "|     831|    59|      352|       115|\n",
            "|     838|    79|      383|       315|\n",
            "|     514|    22|      410|        81|\n",
            "|     457|    75|      458|         5|\n",
            "|     817|     8|      467|       305|\n",
            "|     501|    87|      488|        75|\n",
            "|     929|    96|      508|       288|\n",
            "|     232|    24|      514|      NULL|\n",
            "|     799|    80|      536|       148|\n",
            "|     772|    49|      538|        52|\n",
            "|     869|    79|      547|       296|\n",
            "|     772|    54|      560|        52|\n",
            "|     768|    44|      566|       255|\n",
            "|     935|    63|      571|       172|\n",
            "|     918|    89|      607|        36|\n",
            "|     560|   100|      609|        53|\n",
            "|     569|     1|      687|        21|\n",
            "|     624|    87|      798|       224|\n",
            "|     414|    88|      803|      NULL|\n",
            "|     698|    84|      856|        85|\n",
            "|     499|    82|      887|         5|\n",
            "|     817|    41|      898|       305|\n",
            "|     298|    65|      919|      NULL|\n",
            "|      73|    90|      939|       155|\n",
            "|     583|    19|      946|       210|\n",
            "|     588|    85|      952|       248|\n",
            "|     427|    66|      953|      NULL|\n",
            "|     428|    19|      971|      NULL|\n",
            "|     427|    85|      978|      NULL|\n",
            "|     722|    23|      997|       295|\n",
            "|     869|    71|     1017|       296|\n",
            "|     297|    45|     1042|      NULL|\n",
            "|     501|    65|     1071|        75|\n",
            "|     179|    37|     1077|       114|\n",
            "|     962|    70|     1102|       142|\n",
            "|     423|    28|     1108|      NULL|\n",
            "|     781|    65|     1115|         7|\n",
            "|     405|    89|     1129|      NULL|\n",
            "|     430|    42|     1140|      NULL|\n",
            "|     202|    89|     1157|      NULL|\n",
            "|     482|    63|     1167|         5|\n",
            "|     414|    51|     1167|      NULL|\n",
            "|     335|    90|     1182|      NULL|\n",
            "|     327|    57|     1212|      NULL|\n",
            "|     342|    58|     1263|      NULL|\n",
            "|     147|    44|     1295|        47|\n",
            "|     693|    89|     1336|       130|\n",
            "|     251|    56|     1339|      NULL|\n",
            "|     837|   102|     1341|       245|\n",
            "|     304|    47|     1388|      NULL|\n",
            "|     541|    48|     1391|       244|\n",
            "|     257|   110|     1451|      NULL|\n",
            "|     820|    71|     1460|       198|\n",
            "|     505|    70|     1471|       164|\n",
            "+--------+------+---------+----------+\n",
            "\n"
          ]
        }
      ]
    },
    {
      "cell_type": "markdown",
      "source": [
        "##### Hacemos la tabla de hechos"
      ],
      "metadata": {
        "id": "R8lhdW0HLTlN"
      }
    },
    {
      "cell_type": "code",
      "source": [
        "# Unimos\n",
        "f_red_cards = f_redcard1.union(f_redcard2)\n",
        "\n",
        "#Asignamos ID\n",
        "f_red_cards = f_red_cards.withColumn(\"id\", monotonically_increasing_id() + 1)\n",
        "\n",
        "# Mostrar la tabla de hechos\n",
        "f_red_cards.show(2555)"
      ],
      "metadata": {
        "colab": {
          "base_uri": "https://localhost:8080/",
          "height": 0
        },
        "id": "x6ByzX54LVWf",
        "outputId": "a56f82c0-a7f3-4b71-e927-f33c96e512de"
      },
      "execution_count": 22,
      "outputs": [
        {
          "output_type": "stream",
          "name": "stdout",
          "text": [
            "+--------+------+---------+----------+----------+\n",
            "|match_id|minute|player_id|referee_id|        id|\n",
            "+--------+------+---------+----------+----------+\n",
            "|     175|    40|       54|        32|         1|\n",
            "|     427|    68|       63|      NULL|         2|\n",
            "|     159|    89|      109|        64|         3|\n",
            "|     152|    50|      118|        80|         4|\n",
            "|     918|    89|      132|        36|         5|\n",
            "|     374|    59|      171|      NULL|         6|\n",
            "|     112|     3|      207|       155|         7|\n",
            "|     390|    40|      225|      NULL|         8|\n",
            "|     154|    59|      229|        20|         9|\n",
            "|     416|    53|      238|      NULL|        10|\n",
            "|     297|    28|      261|      NULL|        11|\n",
            "|     613|    85|      293|       262|        12|\n",
            "|     546|    52|      351|       190|        13|\n",
            "|     570|    88|      409|       320|        14|\n",
            "|     799|    83|      431|       148|        15|\n",
            "|     423|    54|      453|      NULL|        16|\n",
            "|     484|    21|      459|       159|        17|\n",
            "|     626|    89|      463|        63|        18|\n",
            "|     440|    30|      500|      NULL|        19|\n",
            "|     486|    73|      573|       260|        20|\n",
            "|     452|    63|      664|       147|        21|\n",
            "|     339|    27|      706|      NULL|        22|\n",
            "|     725|    69|      730|       131|        23|\n",
            "|     869|    71|      740|       296|        24|\n",
            "|     387|    76|      804|      NULL|        25|\n",
            "|     460|    43|      814|        21|        26|\n",
            "|     200|   120|      850|      NULL|        27|\n",
            "|     623|    62|      866|       285|        28|\n",
            "|     267|    50|      888|      NULL|        29|\n",
            "|     186|    90|      930|       173|        30|\n",
            "|     500|    25|      949|        91|        31|\n",
            "|     348|    81|      995|      NULL|        32|\n",
            "|     256|    81|     1007|      NULL|        33|\n",
            "|     441|    82|     1054|      NULL|        34|\n",
            "|      34|    90|     1065|       136|        35|\n",
            "|     525|    33|     1080|       248|        36|\n",
            "|     331|    88|     1117|      NULL|        37|\n",
            "|     714|    83|     1138|       128|        38|\n",
            "|     589|    42|     1139|        11|        39|\n",
            "|     507|    31|     1145|       190|        40|\n",
            "|     513|    85|     1158|        21|        41|\n",
            "|     514|    22|     1219|        81|        42|\n",
            "|     367|    25|     1328|      NULL|        43|\n",
            "|     560|    65|     1329|        53|        44|\n",
            "|     296|    65|     1352|      NULL|        45|\n",
            "|     820|    71|     1384|       198|        46|\n",
            "|      45|    86|     1398|       238|        47|\n",
            "|     261|    62|     1399|      NULL|        48|\n",
            "|     222|    25|     1432|      NULL|        49|\n",
            "|     518|    70|     1434|       243|        50|\n",
            "|     918|    14|     1448|        36|        51|\n",
            "|     428|    71|     1451|      NULL|        52|\n",
            "|     617|    84|       75|        68|8589934593|\n",
            "|     693|    88|       97|       130|8589934594|\n",
            "|     552|    61|      101|       166|8589934595|\n",
            "|     770|    35|      117|         9|8589934596|\n",
            "|     552|    88|      149|       166|8589934597|\n",
            "|     729|    67|      203|       179|8589934598|\n",
            "|     394|    47|      267|      NULL|8589934599|\n",
            "|     664|    88|      286|        99|8589934600|\n",
            "|     831|    59|      352|       115|8589934601|\n",
            "|     838|    79|      383|       315|8589934602|\n",
            "|     514|    22|      410|        81|8589934603|\n",
            "|     457|    75|      458|         5|8589934604|\n",
            "|     817|     8|      467|       305|8589934605|\n",
            "|     501|    87|      488|        75|8589934606|\n",
            "|     929|    96|      508|       288|8589934607|\n",
            "|     232|    24|      514|      NULL|8589934608|\n",
            "|     799|    80|      536|       148|8589934609|\n",
            "|     772|    49|      538|        52|8589934610|\n",
            "|     869|    79|      547|       296|8589934611|\n",
            "|     772|    54|      560|        52|8589934612|\n",
            "|     768|    44|      566|       255|8589934613|\n",
            "|     935|    63|      571|       172|8589934614|\n",
            "|     918|    89|      607|        36|8589934615|\n",
            "|     560|   100|      609|        53|8589934616|\n",
            "|     569|     1|      687|        21|8589934617|\n",
            "|     624|    87|      798|       224|8589934618|\n",
            "|     414|    88|      803|      NULL|8589934619|\n",
            "|     698|    84|      856|        85|8589934620|\n",
            "|     499|    82|      887|         5|8589934621|\n",
            "|     817|    41|      898|       305|8589934622|\n",
            "|     298|    65|      919|      NULL|8589934623|\n",
            "|      73|    90|      939|       155|8589934624|\n",
            "|     583|    19|      946|       210|8589934625|\n",
            "|     588|    85|      952|       248|8589934626|\n",
            "|     427|    66|      953|      NULL|8589934627|\n",
            "|     428|    19|      971|      NULL|8589934628|\n",
            "|     427|    85|      978|      NULL|8589934629|\n",
            "|     722|    23|      997|       295|8589934630|\n",
            "|     869|    71|     1017|       296|8589934631|\n",
            "|     297|    45|     1042|      NULL|8589934632|\n",
            "|     501|    65|     1071|        75|8589934633|\n",
            "|     179|    37|     1077|       114|8589934634|\n",
            "|     962|    70|     1102|       142|8589934635|\n",
            "|     423|    28|     1108|      NULL|8589934636|\n",
            "|     781|    65|     1115|         7|8589934637|\n",
            "|     405|    89|     1129|      NULL|8589934638|\n",
            "|     430|    42|     1140|      NULL|8589934639|\n",
            "|     202|    89|     1157|      NULL|8589934640|\n",
            "|     482|    63|     1167|         5|8589934641|\n",
            "|     414|    51|     1167|      NULL|8589934642|\n",
            "|     335|    90|     1182|      NULL|8589934643|\n",
            "|     327|    57|     1212|      NULL|8589934644|\n",
            "|     342|    58|     1263|      NULL|8589934645|\n",
            "|     147|    44|     1295|        47|8589934646|\n",
            "|     693|    89|     1336|       130|8589934647|\n",
            "|     251|    56|     1339|      NULL|8589934648|\n",
            "|     837|   102|     1341|       245|8589934649|\n",
            "|     304|    47|     1388|      NULL|8589934650|\n",
            "|     541|    48|     1391|       244|8589934651|\n",
            "|     257|   110|     1451|      NULL|8589934652|\n",
            "|     820|    71|     1460|       198|8589934653|\n",
            "|     505|    70|     1471|       164|8589934654|\n",
            "+--------+------+---------+----------+----------+\n",
            "\n"
          ]
        }
      ]
    },
    {
      "cell_type": "markdown",
      "source": [
        "## Load"
      ],
      "metadata": {
        "id": "-EW7D9m-RK9-"
      }
    },
    {
      "cell_type": "markdown",
      "source": [
        "#### En mi caso los pasaré a csv para que todos puedan acceder a ellos por si quisieran usarlos"
      ],
      "metadata": {
        "id": "10YIaT2rRQhE"
      }
    },
    {
      "cell_type": "code",
      "source": [
        "# dim_teams\n",
        "dim_teams_pandas = dim_teams.toPandas()\n",
        "dim_teams_pandas.to_csv('dim_teams.csv', index=False, encoding='utf-8')\n",
        "\n",
        "# dim_referees\n",
        "dim_referees_pandas = dim_referees.toPandas()\n",
        "dim_referees_pandas.to_csv('dim_referees.csv', index=False, encoding='utf-8')\n",
        "\n",
        "# dim_matches\n",
        "dim_matches_pandas = dim_matches.toPandas()\n",
        "dim_matches_pandas.to_csv('dim_matches.csv', index=False, encoding='utf-8')\n",
        "\n",
        "# dim_players\n",
        "dim_players_pandas = dim_players.toPandas()\n",
        "dim_players_pandas.to_csv('dim_players.csv', index=False, encoding='utf-8')\n",
        "\n",
        "# f_goals\n",
        "f_goals_pandas = f_goals.toPandas()\n",
        "f_goals_pandas.to_csv('f_goals.csv', index=False, encoding='utf-8')\n",
        "\n",
        "# f_red_cards\n",
        "f_red_cards_pandas = f_red_cards.toPandas()\n",
        "f_red_cards_pandas.to_csv('f_red_cards.csv', index=False, encoding='utf-8')\n",
        "\n",
        "# Descargar cada archivo CSV\n",
        "files.download('dim_teams.csv')\n",
        "files.download('dim_referees.csv')\n",
        "files.download('dim_matches.csv')\n",
        "files.download('dim_players.csv')\n",
        "files.download('f_goals.csv')\n",
        "files.download('f_red_cards.csv')\n"
      ],
      "metadata": {
        "colab": {
          "base_uri": "https://localhost:8080/",
          "height": 17
        },
        "id": "Qc9enpulxOnv",
        "outputId": "d4edaaa9-383c-4f4f-c926-efb3c1204d13"
      },
      "execution_count": 23,
      "outputs": [
        {
          "output_type": "display_data",
          "data": {
            "text/plain": [
              "<IPython.core.display.Javascript object>"
            ],
            "application/javascript": [
              "\n",
              "    async function download(id, filename, size) {\n",
              "      if (!google.colab.kernel.accessAllowed) {\n",
              "        return;\n",
              "      }\n",
              "      const div = document.createElement('div');\n",
              "      const label = document.createElement('label');\n",
              "      label.textContent = `Downloading \"${filename}\": `;\n",
              "      div.appendChild(label);\n",
              "      const progress = document.createElement('progress');\n",
              "      progress.max = size;\n",
              "      div.appendChild(progress);\n",
              "      document.body.appendChild(div);\n",
              "\n",
              "      const buffers = [];\n",
              "      let downloaded = 0;\n",
              "\n",
              "      const channel = await google.colab.kernel.comms.open(id);\n",
              "      // Send a message to notify the kernel that we're ready.\n",
              "      channel.send({})\n",
              "\n",
              "      for await (const message of channel.messages) {\n",
              "        // Send a message to notify the kernel that we're ready.\n",
              "        channel.send({})\n",
              "        if (message.buffers) {\n",
              "          for (const buffer of message.buffers) {\n",
              "            buffers.push(buffer);\n",
              "            downloaded += buffer.byteLength;\n",
              "            progress.value = downloaded;\n",
              "          }\n",
              "        }\n",
              "      }\n",
              "      const blob = new Blob(buffers, {type: 'application/binary'});\n",
              "      const a = document.createElement('a');\n",
              "      a.href = window.URL.createObjectURL(blob);\n",
              "      a.download = filename;\n",
              "      div.appendChild(a);\n",
              "      a.click();\n",
              "      div.remove();\n",
              "    }\n",
              "  "
            ]
          },
          "metadata": {}
        },
        {
          "output_type": "display_data",
          "data": {
            "text/plain": [
              "<IPython.core.display.Javascript object>"
            ],
            "application/javascript": [
              "download(\"download_aede4cbc-5c61-4fe6-864c-03cd6e096a41\", \"dim_teams.csv\", 1086)"
            ]
          },
          "metadata": {}
        },
        {
          "output_type": "display_data",
          "data": {
            "text/plain": [
              "<IPython.core.display.Javascript object>"
            ],
            "application/javascript": [
              "\n",
              "    async function download(id, filename, size) {\n",
              "      if (!google.colab.kernel.accessAllowed) {\n",
              "        return;\n",
              "      }\n",
              "      const div = document.createElement('div');\n",
              "      const label = document.createElement('label');\n",
              "      label.textContent = `Downloading \"${filename}\": `;\n",
              "      div.appendChild(label);\n",
              "      const progress = document.createElement('progress');\n",
              "      progress.max = size;\n",
              "      div.appendChild(progress);\n",
              "      document.body.appendChild(div);\n",
              "\n",
              "      const buffers = [];\n",
              "      let downloaded = 0;\n",
              "\n",
              "      const channel = await google.colab.kernel.comms.open(id);\n",
              "      // Send a message to notify the kernel that we're ready.\n",
              "      channel.send({})\n",
              "\n",
              "      for await (const message of channel.messages) {\n",
              "        // Send a message to notify the kernel that we're ready.\n",
              "        channel.send({})\n",
              "        if (message.buffers) {\n",
              "          for (const buffer of message.buffers) {\n",
              "            buffers.push(buffer);\n",
              "            downloaded += buffer.byteLength;\n",
              "            progress.value = downloaded;\n",
              "          }\n",
              "        }\n",
              "      }\n",
              "      const blob = new Blob(buffers, {type: 'application/binary'});\n",
              "      const a = document.createElement('a');\n",
              "      a.href = window.URL.createObjectURL(blob);\n",
              "      a.download = filename;\n",
              "      div.appendChild(a);\n",
              "      a.click();\n",
              "      div.remove();\n",
              "    }\n",
              "  "
            ]
          },
          "metadata": {}
        },
        {
          "output_type": "display_data",
          "data": {
            "text/plain": [
              "<IPython.core.display.Javascript object>"
            ],
            "application/javascript": [
              "download(\"download_333e88f5-2569-4946-8a66-285d767965b8\", \"dim_referees.csv\", 6455)"
            ]
          },
          "metadata": {}
        },
        {
          "output_type": "display_data",
          "data": {
            "text/plain": [
              "<IPython.core.display.Javascript object>"
            ],
            "application/javascript": [
              "\n",
              "    async function download(id, filename, size) {\n",
              "      if (!google.colab.kernel.accessAllowed) {\n",
              "        return;\n",
              "      }\n",
              "      const div = document.createElement('div');\n",
              "      const label = document.createElement('label');\n",
              "      label.textContent = `Downloading \"${filename}\": `;\n",
              "      div.appendChild(label);\n",
              "      const progress = document.createElement('progress');\n",
              "      progress.max = size;\n",
              "      div.appendChild(progress);\n",
              "      document.body.appendChild(div);\n",
              "\n",
              "      const buffers = [];\n",
              "      let downloaded = 0;\n",
              "\n",
              "      const channel = await google.colab.kernel.comms.open(id);\n",
              "      // Send a message to notify the kernel that we're ready.\n",
              "      channel.send({})\n",
              "\n",
              "      for await (const message of channel.messages) {\n",
              "        // Send a message to notify the kernel that we're ready.\n",
              "        channel.send({})\n",
              "        if (message.buffers) {\n",
              "          for (const buffer of message.buffers) {\n",
              "            buffers.push(buffer);\n",
              "            downloaded += buffer.byteLength;\n",
              "            progress.value = downloaded;\n",
              "          }\n",
              "        }\n",
              "      }\n",
              "      const blob = new Blob(buffers, {type: 'application/binary'});\n",
              "      const a = document.createElement('a');\n",
              "      a.href = window.URL.createObjectURL(blob);\n",
              "      a.download = filename;\n",
              "      div.appendChild(a);\n",
              "      a.click();\n",
              "      div.remove();\n",
              "    }\n",
              "  "
            ]
          },
          "metadata": {}
        },
        {
          "output_type": "display_data",
          "data": {
            "text/plain": [
              "<IPython.core.display.Javascript object>"
            ],
            "application/javascript": [
              "download(\"download_6b32fce0-b3aa-48c0-94a2-60a72c9ffc51\", \"dim_matches.csv\", 39118)"
            ]
          },
          "metadata": {}
        },
        {
          "output_type": "display_data",
          "data": {
            "text/plain": [
              "<IPython.core.display.Javascript object>"
            ],
            "application/javascript": [
              "\n",
              "    async function download(id, filename, size) {\n",
              "      if (!google.colab.kernel.accessAllowed) {\n",
              "        return;\n",
              "      }\n",
              "      const div = document.createElement('div');\n",
              "      const label = document.createElement('label');\n",
              "      label.textContent = `Downloading \"${filename}\": `;\n",
              "      div.appendChild(label);\n",
              "      const progress = document.createElement('progress');\n",
              "      progress.max = size;\n",
              "      div.appendChild(progress);\n",
              "      document.body.appendChild(div);\n",
              "\n",
              "      const buffers = [];\n",
              "      let downloaded = 0;\n",
              "\n",
              "      const channel = await google.colab.kernel.comms.open(id);\n",
              "      // Send a message to notify the kernel that we're ready.\n",
              "      channel.send({})\n",
              "\n",
              "      for await (const message of channel.messages) {\n",
              "        // Send a message to notify the kernel that we're ready.\n",
              "        channel.send({})\n",
              "        if (message.buffers) {\n",
              "          for (const buffer of message.buffers) {\n",
              "            buffers.push(buffer);\n",
              "            downloaded += buffer.byteLength;\n",
              "            progress.value = downloaded;\n",
              "          }\n",
              "        }\n",
              "      }\n",
              "      const blob = new Blob(buffers, {type: 'application/binary'});\n",
              "      const a = document.createElement('a');\n",
              "      a.href = window.URL.createObjectURL(blob);\n",
              "      a.download = filename;\n",
              "      div.appendChild(a);\n",
              "      a.click();\n",
              "      div.remove();\n",
              "    }\n",
              "  "
            ]
          },
          "metadata": {}
        },
        {
          "output_type": "display_data",
          "data": {
            "text/plain": [
              "<IPython.core.display.Javascript object>"
            ],
            "application/javascript": [
              "download(\"download_dde68282-0a7a-42a6-a951-8f754e7937bf\", \"dim_players.csv\", 32542)"
            ]
          },
          "metadata": {}
        },
        {
          "output_type": "display_data",
          "data": {
            "text/plain": [
              "<IPython.core.display.Javascript object>"
            ],
            "application/javascript": [
              "\n",
              "    async function download(id, filename, size) {\n",
              "      if (!google.colab.kernel.accessAllowed) {\n",
              "        return;\n",
              "      }\n",
              "      const div = document.createElement('div');\n",
              "      const label = document.createElement('label');\n",
              "      label.textContent = `Downloading \"${filename}\": `;\n",
              "      div.appendChild(label);\n",
              "      const progress = document.createElement('progress');\n",
              "      progress.max = size;\n",
              "      div.appendChild(progress);\n",
              "      document.body.appendChild(div);\n",
              "\n",
              "      const buffers = [];\n",
              "      let downloaded = 0;\n",
              "\n",
              "      const channel = await google.colab.kernel.comms.open(id);\n",
              "      // Send a message to notify the kernel that we're ready.\n",
              "      channel.send({})\n",
              "\n",
              "      for await (const message of channel.messages) {\n",
              "        // Send a message to notify the kernel that we're ready.\n",
              "        channel.send({})\n",
              "        if (message.buffers) {\n",
              "          for (const buffer of message.buffers) {\n",
              "            buffers.push(buffer);\n",
              "            downloaded += buffer.byteLength;\n",
              "            progress.value = downloaded;\n",
              "          }\n",
              "        }\n",
              "      }\n",
              "      const blob = new Blob(buffers, {type: 'application/binary'});\n",
              "      const a = document.createElement('a');\n",
              "      a.href = window.URL.createObjectURL(blob);\n",
              "      a.download = filename;\n",
              "      div.appendChild(a);\n",
              "      a.click();\n",
              "      div.remove();\n",
              "    }\n",
              "  "
            ]
          },
          "metadata": {}
        },
        {
          "output_type": "display_data",
          "data": {
            "text/plain": [
              "<IPython.core.display.Javascript object>"
            ],
            "application/javascript": [
              "download(\"download_10f26676-dd64-413b-85d6-a50e7c1a4a11\", \"f_goals.csv\", 60065)"
            ]
          },
          "metadata": {}
        },
        {
          "output_type": "display_data",
          "data": {
            "text/plain": [
              "<IPython.core.display.Javascript object>"
            ],
            "application/javascript": [
              "\n",
              "    async function download(id, filename, size) {\n",
              "      if (!google.colab.kernel.accessAllowed) {\n",
              "        return;\n",
              "      }\n",
              "      const div = document.createElement('div');\n",
              "      const label = document.createElement('label');\n",
              "      label.textContent = `Downloading \"${filename}\": `;\n",
              "      div.appendChild(label);\n",
              "      const progress = document.createElement('progress');\n",
              "      progress.max = size;\n",
              "      div.appendChild(progress);\n",
              "      document.body.appendChild(div);\n",
              "\n",
              "      const buffers = [];\n",
              "      let downloaded = 0;\n",
              "\n",
              "      const channel = await google.colab.kernel.comms.open(id);\n",
              "      // Send a message to notify the kernel that we're ready.\n",
              "      channel.send({})\n",
              "\n",
              "      for await (const message of channel.messages) {\n",
              "        // Send a message to notify the kernel that we're ready.\n",
              "        channel.send({})\n",
              "        if (message.buffers) {\n",
              "          for (const buffer of message.buffers) {\n",
              "            buffers.push(buffer);\n",
              "            downloaded += buffer.byteLength;\n",
              "            progress.value = downloaded;\n",
              "          }\n",
              "        }\n",
              "      }\n",
              "      const blob = new Blob(buffers, {type: 'application/binary'});\n",
              "      const a = document.createElement('a');\n",
              "      a.href = window.URL.createObjectURL(blob);\n",
              "      a.download = filename;\n",
              "      div.appendChild(a);\n",
              "      a.click();\n",
              "      div.remove();\n",
              "    }\n",
              "  "
            ]
          },
          "metadata": {}
        },
        {
          "output_type": "display_data",
          "data": {
            "text/plain": [
              "<IPython.core.display.Javascript object>"
            ],
            "application/javascript": [
              "download(\"download_85662348-fb5a-4a1a-844b-c4c3496734ef\", \"f_red_cards.csv\", 2615)"
            ]
          },
          "metadata": {}
        }
      ]
    }
  ]
}